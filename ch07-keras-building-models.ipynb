{
 "cells": [
  {
   "cell_type": "code",
   "execution_count": 100,
   "metadata": {},
   "outputs": [],
   "source": [
    "import tensorflow as tf\n",
    "from tensorflow import keras\n",
    "from tensorflow.keras import layers\n",
    "\n",
    "import numpy as np"
   ]
  },
  {
   "cell_type": "markdown",
   "metadata": {},
   "source": [
    "**The Sequrntial Model**"
   ]
  },
  {
   "cell_type": "code",
   "execution_count": 101,
   "metadata": {},
   "outputs": [],
   "source": [
    "model = keras.Sequential([\n",
    "    layers.Dense(64, activation=\"relu\"),\n",
    "    layers.Dense(10, activation=\"softmax\")\n",
    "])\n",
    "\n",
    "\n",
    "model = keras.Sequential()\n",
    "model.add(layers.Dense(64, activation=\"relu\"))\n",
    "model.add(layers.Dense(10, activation=\"softmax\"))"
   ]
  },
  {
   "cell_type": "code",
   "execution_count": 102,
   "metadata": {},
   "outputs": [],
   "source": [
    "# layers are built only when they are called for the first time\n",
    "# because, shape of layer's weight deps on input dimension which is not know during model creation\n",
    "\n",
    "# model.weights"
   ]
  },
  {
   "cell_type": "code",
   "execution_count": 103,
   "metadata": {},
   "outputs": [
    {
     "data": {
      "text/plain": [
       "[<tf.Variable 'dense_64/kernel:0' shape=(3, 64) dtype=float32, numpy=\n",
       " array([[-0.02428851,  0.24737275, -0.06286001, -0.10581259, -0.05506523,\n",
       "         -0.04278606,  0.21549666,  0.28197366,  0.05329731, -0.05891664,\n",
       "         -0.20213497, -0.29509768, -0.1813932 ,  0.18612191, -0.12174033,\n",
       "         -0.15246946,  0.01970488,  0.28696012,  0.00241277, -0.27060017,\n",
       "          0.25492764, -0.13541386, -0.05869347,  0.0401828 , -0.10018834,\n",
       "          0.15564933, -0.1695693 , -0.17420594,  0.27919912,  0.14615208,\n",
       "          0.11644685, -0.13534251,  0.15142015,  0.04289478,  0.2065047 ,\n",
       "          0.09701994, -0.06745814,  0.24916679,  0.07619676, -0.21723266,\n",
       "         -0.04400209, -0.18588045, -0.12664911, -0.1796551 , -0.07258146,\n",
       "          0.03977013, -0.1032901 , -0.10340855, -0.27173376, -0.22903246,\n",
       "          0.09136796, -0.18423247,  0.26096308, -0.03567764,  0.09281224,\n",
       "         -0.2717366 ,  0.2357024 , -0.22386162,  0.14138263, -0.13317247,\n",
       "         -0.29179615, -0.15025526,  0.21475315, -0.17751989],\n",
       "        [-0.24689884,  0.0512709 , -0.17273897, -0.23410419, -0.19710498,\n",
       "         -0.04332152,  0.29003692,  0.26633334,  0.28532523,  0.18429777,\n",
       "          0.06872091, -0.04635057,  0.0896962 ,  0.16620162,  0.07827899,\n",
       "          0.06488627, -0.11172229, -0.2061651 ,  0.2922426 , -0.23261139,\n",
       "          0.07819578, -0.18419816,  0.01116416,  0.24717796,  0.27700675,\n",
       "         -0.10337807,  0.11842054, -0.27809438, -0.02049839, -0.2777765 ,\n",
       "          0.07331926,  0.17287126,  0.18723264,  0.08418903,  0.0951986 ,\n",
       "          0.17752182,  0.00819504,  0.08991694,  0.25279647,  0.2309674 ,\n",
       "         -0.1619384 ,  0.1112701 ,  0.1990012 ,  0.29218876,  0.16641739,\n",
       "         -0.07799643, -0.06725001,  0.01695043,  0.12745363, -0.24332449,\n",
       "         -0.07586715,  0.05285668,  0.18897024, -0.23372754,  0.01472947,\n",
       "          0.01371911, -0.06364083,  0.13352713,  0.28754884, -0.21270145,\n",
       "          0.11910048, -0.20115346,  0.2645561 ,  0.15643921],\n",
       "        [-0.22104126,  0.04006743,  0.02584234,  0.04797843,  0.03863692,\n",
       "          0.08229712, -0.29060557,  0.16425961, -0.00277263, -0.27897117,\n",
       "         -0.16603774, -0.13491814,  0.2612329 , -0.27791908, -0.1266725 ,\n",
       "         -0.19848384,  0.11671796, -0.03252545, -0.23030408,  0.0818983 ,\n",
       "         -0.22474548, -0.16264275, -0.18371585,  0.06430003,  0.07948083,\n",
       "         -0.01186785,  0.05131429, -0.22534865, -0.1793105 ,  0.1371252 ,\n",
       "         -0.28421414,  0.12806934, -0.26788133,  0.09448919, -0.13240941,\n",
       "         -0.28421015,  0.20430237, -0.19292909, -0.28272438, -0.00536618,\n",
       "          0.09141326,  0.07912871,  0.04119465,  0.27911055, -0.2620228 ,\n",
       "         -0.24699688, -0.18456502, -0.28234383, -0.21631378,  0.28756368,\n",
       "          0.15703341,  0.00196514, -0.14923021,  0.06258404, -0.03666994,\n",
       "          0.15464368,  0.01069328,  0.2978227 , -0.07212697,  0.2538553 ,\n",
       "         -0.23735328,  0.12794492, -0.15536988, -0.2225078 ]],\n",
       "       dtype=float32)>,\n",
       " <tf.Variable 'dense_64/bias:0' shape=(64,) dtype=float32, numpy=\n",
       " array([0., 0., 0., 0., 0., 0., 0., 0., 0., 0., 0., 0., 0., 0., 0., 0., 0.,\n",
       "        0., 0., 0., 0., 0., 0., 0., 0., 0., 0., 0., 0., 0., 0., 0., 0., 0.,\n",
       "        0., 0., 0., 0., 0., 0., 0., 0., 0., 0., 0., 0., 0., 0., 0., 0., 0.,\n",
       "        0., 0., 0., 0., 0., 0., 0., 0., 0., 0., 0., 0., 0.], dtype=float32)>,\n",
       " <tf.Variable 'dense_65/kernel:0' shape=(64, 10) dtype=float32, numpy=\n",
       " array([[ 1.93199784e-01, -6.45565242e-02,  2.38540262e-01,\n",
       "         -8.13114196e-02, -3.01818550e-02,  2.74382979e-01,\n",
       "         -1.42096296e-01,  2.14916229e-01,  5.62761724e-02,\n",
       "         -5.63257337e-02],\n",
       "        [-1.19906217e-01, -2.06283584e-01, -3.10462713e-03,\n",
       "          1.86903358e-01,  1.42793119e-01,  2.66896516e-01,\n",
       "         -2.53737688e-01, -2.25320488e-01, -2.36176640e-01,\n",
       "          7.26916194e-02],\n",
       "        [-2.76024312e-01,  1.26744896e-01, -6.28930479e-02,\n",
       "          2.79864669e-03, -2.55100101e-01,  4.70655262e-02,\n",
       "         -9.17551965e-02, -7.72438496e-02, -2.52287328e-01,\n",
       "          4.01491225e-02],\n",
       "        [-7.57255107e-02,  1.45919144e-01, -2.07389772e-01,\n",
       "         -1.48604006e-01, -2.36539632e-01, -1.56109825e-01,\n",
       "         -2.63780802e-01,  1.85349047e-01,  4.99642491e-02,\n",
       "          3.26238275e-02],\n",
       "        [-2.24668965e-01,  5.63467145e-02, -2.53024787e-01,\n",
       "         -1.56046957e-01,  1.36397898e-01,  1.49987996e-01,\n",
       "         -4.92643118e-02,  8.48535895e-02, -2.15395719e-01,\n",
       "         -1.99835420e-01],\n",
       "        [-1.67194217e-01, -1.31983683e-01,  2.28855699e-01,\n",
       "          1.82917535e-01, -4.10819799e-02, -1.79006159e-01,\n",
       "         -5.67043424e-02, -2.67019719e-01,  2.83698708e-01,\n",
       "         -1.98347360e-01],\n",
       "        [-4.07461971e-02,  2.20802635e-01, -2.48406231e-01,\n",
       "         -6.30859137e-02,  2.83255130e-01,  2.50304729e-01,\n",
       "         -1.00320831e-01, -6.79289848e-02,  1.53394669e-01,\n",
       "         -2.59999722e-01],\n",
       "        [ 2.84488589e-01, -1.54646680e-01,  3.25474143e-03,\n",
       "          1.27712518e-01, -1.74407899e-01, -1.79704741e-01,\n",
       "          1.59056634e-01,  2.19892472e-01, -2.57109225e-01,\n",
       "         -2.72606522e-01],\n",
       "        [ 2.06842721e-01, -4.41671312e-02, -2.03795716e-01,\n",
       "         -5.06161898e-02, -1.78578258e-01,  2.08958387e-02,\n",
       "         -3.73228341e-02,  5.01384437e-02,  1.68031007e-01,\n",
       "          7.97437131e-02],\n",
       "        [-3.36115956e-02, -1.36764899e-01,  2.57838041e-01,\n",
       "         -1.51163027e-01,  6.79965317e-02, -9.71166044e-02,\n",
       "          2.18957335e-01,  1.88341439e-01,  5.29005229e-02,\n",
       "          2.35174328e-01],\n",
       "        [ 2.09498346e-01, -8.63745809e-03, -1.03997499e-01,\n",
       "          2.06486374e-01,  1.62562221e-01, -2.17553109e-01,\n",
       "          1.31722450e-01, -2.25625455e-01,  1.88834667e-01,\n",
       "         -1.89175338e-01],\n",
       "        [-9.30224806e-02,  1.55152380e-02, -1.21186271e-01,\n",
       "         -4.77817506e-02, -1.60368174e-01, -2.69319206e-01,\n",
       "          1.37896955e-01,  1.26294374e-01,  9.84420776e-02,\n",
       "         -7.89555311e-02],\n",
       "        [ 1.67284310e-01, -1.59069926e-01, -2.05043852e-01,\n",
       "          3.07809114e-02, -2.05624312e-01, -2.38677472e-01,\n",
       "          1.89156860e-01,  1.76907629e-01,  2.28738815e-01,\n",
       "          2.63055950e-01],\n",
       "        [ 2.74235040e-01, -1.00188792e-01, -1.92992270e-01,\n",
       "         -1.11448169e-02, -2.55185097e-01,  1.60917342e-02,\n",
       "          1.06942743e-01,  2.44474739e-01, -6.96847290e-02,\n",
       "         -1.62180394e-01],\n",
       "        [-2.77987957e-01, -1.36066467e-01, -1.39242649e-01,\n",
       "          2.14627475e-01, -9.61190462e-02,  1.79329395e-01,\n",
       "         -2.69744396e-01, -5.45352250e-02, -8.49041045e-02,\n",
       "          2.03827322e-02],\n",
       "        [-1.58779979e-01, -6.97250664e-02, -1.99381918e-01,\n",
       "          1.72989100e-01,  7.58712590e-02,  1.15940422e-01,\n",
       "          1.90305620e-01, -1.30597040e-01, -1.05883047e-01,\n",
       "          1.80208683e-01],\n",
       "        [ 2.08509535e-01, -4.48559374e-02, -2.27535710e-01,\n",
       "         -2.80187279e-01,  8.96097124e-02,  1.59026682e-02,\n",
       "          3.88906598e-02, -2.78875113e-01,  1.65351033e-01,\n",
       "          2.31271356e-01],\n",
       "        [ 2.71254390e-01,  2.44201571e-01,  4.24481034e-02,\n",
       "         -1.56151980e-01, -5.36938012e-02, -1.99798346e-02,\n",
       "          1.52778774e-01, -5.34921736e-02,  2.43979245e-01,\n",
       "          2.32913285e-01],\n",
       "        [-1.75075859e-01, -1.10762581e-01, -1.75017893e-01,\n",
       "         -2.63642639e-01,  5.56697249e-02,  1.69168979e-01,\n",
       "          1.31758958e-01, -2.63445020e-01, -5.81566244e-02,\n",
       "          5.98837137e-02],\n",
       "        [-2.84355402e-01, -1.66453481e-01, -2.60890007e-01,\n",
       "          1.64202124e-01,  2.65544027e-01,  8.87991786e-02,\n",
       "         -2.07862943e-01,  1.84392750e-01,  1.11383885e-01,\n",
       "          1.46026611e-01],\n",
       "        [-1.74898267e-01,  1.55131131e-01, -2.88634300e-02,\n",
       "         -1.87917486e-01, -5.69178611e-02, -1.83409303e-01,\n",
       "          2.07226574e-02,  2.21741408e-01, -1.73862755e-01,\n",
       "          4.35309410e-02],\n",
       "        [-3.18751931e-02,  2.67431468e-01, -1.68028772e-02,\n",
       "         -6.64248317e-02, -2.40476787e-01,  2.21235484e-01,\n",
       "         -3.45313549e-02, -2.03990012e-01, -2.61893839e-01,\n",
       "          1.60773396e-02],\n",
       "        [-5.07491827e-03, -9.67971236e-02, -2.54106551e-01,\n",
       "         -2.57802069e-01, -8.60860497e-02, -2.58094877e-01,\n",
       "          5.00920117e-02,  2.12117702e-01, -2.03241944e-01,\n",
       "         -2.06877887e-01],\n",
       "        [-1.45699382e-02,  2.02902704e-01,  1.32475466e-01,\n",
       "         -1.46728307e-01, -2.34452114e-01, -2.23783344e-01,\n",
       "          2.22163171e-01, -1.71677768e-02,  7.37566650e-02,\n",
       "          1.43161476e-01],\n",
       "        [-1.98419109e-01, -1.96570754e-01,  2.68392563e-02,\n",
       "         -1.75208718e-01, -1.48276508e-01, -2.21697122e-01,\n",
       "         -6.51990324e-02,  3.38242352e-02, -2.60063142e-01,\n",
       "          1.26063228e-02],\n",
       "        [ 2.22560614e-01, -1.16235659e-01, -1.54813275e-01,\n",
       "          1.83832526e-01, -1.10621780e-01,  2.26717979e-01,\n",
       "          1.56469494e-01,  1.10526860e-01, -1.24815553e-01,\n",
       "         -2.59748936e-01],\n",
       "        [ 1.13689333e-01, -4.36182469e-02,  1.84313804e-01,\n",
       "         -1.60920992e-01, -9.92352813e-02,  2.12134928e-01,\n",
       "          2.27766335e-02,  1.72117054e-01, -2.78225571e-01,\n",
       "          2.98734307e-02],\n",
       "        [-6.36468232e-02,  2.14525849e-01, -3.87422591e-02,\n",
       "          1.29535139e-01,  2.17190892e-01, -2.32763231e-01,\n",
       "         -2.56675005e-01,  2.70754844e-01, -4.44300622e-02,\n",
       "         -8.04676265e-02],\n",
       "        [ 1.87756777e-01, -1.65974438e-01,  2.41706342e-01,\n",
       "          2.61495262e-01, -9.98079777e-05,  1.00253552e-01,\n",
       "          2.73349285e-02, -8.44413042e-02, -2.74651676e-01,\n",
       "         -6.02207929e-02],\n",
       "        [-6.47880286e-02, -2.73519486e-01,  2.12947309e-01,\n",
       "          1.77368820e-01, -2.47032642e-01,  1.57298297e-01,\n",
       "          9.37547982e-02,  7.96024501e-02,  3.16811204e-02,\n",
       "         -2.26829261e-01],\n",
       "        [ 1.09888971e-01, -1.77158624e-01, -1.93099260e-01,\n",
       "          2.25356489e-01, -2.43191212e-01, -2.33394682e-01,\n",
       "         -1.94742382e-02, -1.28501788e-01, -2.74145007e-01,\n",
       "         -5.86099923e-02],\n",
       "        [ 1.07482374e-01, -2.57873654e-01,  5.68594038e-02,\n",
       "          2.24631399e-01,  3.86267900e-03,  2.10903853e-01,\n",
       "         -1.56047240e-01, -2.80219793e-01, -1.34945005e-01,\n",
       "         -9.98696387e-02],\n",
       "        [ 2.65868604e-02,  8.29160511e-02, -2.07899511e-02,\n",
       "          2.31663793e-01, -1.15819156e-01,  1.34475291e-01,\n",
       "          1.64177209e-01, -4.65733260e-02, -1.06275037e-01,\n",
       "          1.66756123e-01],\n",
       "        [ 2.08378911e-01, -6.68259263e-02,  2.36401767e-01,\n",
       "          1.62468314e-01,  1.26644939e-01,  2.25782722e-01,\n",
       "          4.00832593e-02, -1.12652466e-01, -2.07755283e-01,\n",
       "          9.95392203e-02],\n",
       "        [-2.71680176e-01,  1.68792933e-01, -2.75911778e-01,\n",
       "         -9.03331935e-02,  9.73247588e-02,  1.05735600e-01,\n",
       "         -2.06367016e-01, -1.37513444e-01,  5.17362952e-02,\n",
       "         -1.11748740e-01],\n",
       "        [-2.12718248e-01,  1.24931365e-01,  3.08952928e-02,\n",
       "         -1.61873400e-01,  1.87998801e-01, -1.45973921e-01,\n",
       "          2.79710501e-01,  2.15080023e-01, -1.39618695e-01,\n",
       "         -1.70183092e-01],\n",
       "        [ 6.72298670e-02,  2.14871943e-01, -1.90330595e-01,\n",
       "          2.11098820e-01, -2.41026014e-01,  1.17669553e-01,\n",
       "         -4.20923829e-02,  2.55535632e-01, -3.41584384e-02,\n",
       "          1.96258873e-01],\n",
       "        [ 1.36608690e-01, -1.15601644e-01, -1.16237223e-01,\n",
       "          1.41889036e-01,  6.71957135e-02, -2.23622590e-01,\n",
       "          1.15571558e-01,  9.27653909e-02,  2.74238080e-01,\n",
       "          1.99763983e-01],\n",
       "        [-1.69321865e-01,  2.54527241e-01,  1.59889758e-01,\n",
       "         -2.20989704e-01,  3.10031772e-02, -2.00120687e-01,\n",
       "          1.98753804e-01,  2.78887540e-01,  2.66765028e-01,\n",
       "         -2.78505862e-01],\n",
       "        [ 1.59923822e-01, -1.50922224e-01,  2.70640999e-01,\n",
       "          8.00436437e-02,  2.36541033e-02, -2.10080475e-01,\n",
       "          2.00052321e-01, -2.43175924e-02,  4.36896086e-02,\n",
       "         -8.90456140e-02],\n",
       "        [-7.06705451e-02,  4.68027592e-03, -1.65454552e-01,\n",
       "          7.23153353e-04, -1.08359709e-01, -1.42444372e-01,\n",
       "          1.70066804e-01, -1.01586357e-01, -8.32636356e-02,\n",
       "          8.13516676e-02],\n",
       "        [ 2.48281330e-01, -1.80270672e-02,  4.28387523e-02,\n",
       "         -4.14641351e-02,  1.52042925e-01, -4.55697924e-02,\n",
       "         -1.48240119e-01,  2.29701191e-01,  1.97777092e-01,\n",
       "         -1.06333151e-01],\n",
       "        [-5.59002161e-04, -2.54456908e-01,  1.76014096e-01,\n",
       "          2.26927549e-01, -5.02030849e-02, -2.74382561e-01,\n",
       "         -3.76687199e-02, -3.33651602e-02,  2.69004315e-01,\n",
       "         -2.83918321e-01],\n",
       "        [ 7.82346129e-02, -1.19040355e-01, -2.26825729e-01,\n",
       "         -1.90611526e-01,  1.71550453e-01, -1.81338087e-01,\n",
       "          1.88437104e-02,  1.95002526e-01,  1.68060005e-01,\n",
       "         -8.51963609e-02],\n",
       "        [ 2.30811149e-01,  1.87713534e-01,  2.69871563e-01,\n",
       "         -2.57058352e-01, -1.04844421e-01, -1.96189970e-01,\n",
       "         -2.14082956e-01, -2.32362628e-01,  1.62229359e-01,\n",
       "          5.28454781e-03],\n",
       "        [-1.96904719e-01, -1.80758446e-01,  2.54668802e-01,\n",
       "         -4.33755517e-02,  6.72161579e-03,  1.99433833e-01,\n",
       "          2.57195681e-01, -2.81688571e-01,  1.07955575e-01,\n",
       "          3.06698978e-02],\n",
       "        [ 6.05303049e-02,  1.39320195e-01, -1.41338110e-01,\n",
       "         -1.99930996e-01,  4.86251414e-02,  1.59089059e-01,\n",
       "         -1.35215536e-01, -7.85415471e-02, -5.72617203e-02,\n",
       "          4.82145548e-02],\n",
       "        [-2.23988771e-01,  1.79969251e-01, -9.79606658e-02,\n",
       "         -2.41550252e-01, -1.95237353e-01,  8.17455053e-02,\n",
       "          8.58587623e-02,  8.77857804e-02,  2.69545585e-01,\n",
       "          2.81101435e-01],\n",
       "        [-2.48156741e-01,  2.41116285e-02, -2.74585813e-01,\n",
       "         -1.27003953e-01, -2.31976405e-01,  5.19124568e-02,\n",
       "          5.91391921e-02, -1.17022023e-01,  1.80601954e-01,\n",
       "          2.02713221e-01],\n",
       "        [ 1.13158226e-02,  1.09201550e-01,  2.14455515e-01,\n",
       "          8.33288133e-02,  2.42954820e-01, -6.34437799e-03,\n",
       "          1.71248615e-01,  1.97518706e-01,  5.74186444e-03,\n",
       "         -1.11516967e-01],\n",
       "        [ 1.92643404e-02, -7.35144317e-02,  1.98994815e-01,\n",
       "          1.76892638e-01,  1.84823245e-01, -1.32998213e-01,\n",
       "         -4.71132547e-02,  6.20757937e-02,  1.10155255e-01,\n",
       "         -1.66856125e-01],\n",
       "        [-1.86720729e-01, -5.44175655e-02, -1.16036057e-01,\n",
       "         -2.76963085e-01,  7.28165209e-02, -1.88599706e-01,\n",
       "          1.21606916e-01, -1.78166926e-01,  1.77750677e-01,\n",
       "          4.53783572e-02],\n",
       "        [ 4.04260457e-02, -1.54272959e-01, -3.11629772e-02,\n",
       "         -7.18445629e-02, -1.31355703e-01,  1.89290941e-01,\n",
       "          8.65539312e-02, -2.45820284e-02, -3.24200094e-02,\n",
       "         -2.74122953e-01],\n",
       "        [ 1.07629359e-01, -1.49274215e-01, -1.98328078e-01,\n",
       "         -2.71740854e-02,  8.07517469e-02, -1.91184044e-01,\n",
       "          2.13871956e-01, -2.68565893e-01,  2.09145844e-02,\n",
       "         -1.37328446e-01],\n",
       "        [ 1.78654552e-01,  1.30296648e-02, -1.29030779e-01,\n",
       "          2.66256183e-01,  2.76075929e-01, -8.29525739e-02,\n",
       "          8.23521018e-02, -2.73817390e-01, -2.43559510e-01,\n",
       "          1.49009794e-01],\n",
       "        [-5.89122325e-02, -9.56822485e-02, -1.26979992e-01,\n",
       "         -1.31229460e-02, -2.36312956e-01,  1.75780892e-01,\n",
       "          2.09391683e-01,  2.58672237e-03,  5.25621474e-02,\n",
       "          2.16501504e-01],\n",
       "        [-8.32781196e-03, -6.30716532e-02,  5.46369255e-02,\n",
       "          1.54733986e-01, -2.45147020e-01, -2.25005955e-01,\n",
       "          1.19651914e-01, -1.93635985e-01,  3.22029889e-02,\n",
       "          6.49795532e-02],\n",
       "        [ 2.57859260e-01,  9.44827795e-02,  7.52609968e-03,\n",
       "          1.98132962e-01, -3.85201275e-02, -7.09047914e-03,\n",
       "          1.04316771e-01, -2.82226592e-01, -3.52539122e-02,\n",
       "         -6.78705275e-02],\n",
       "        [ 3.50351036e-02, -1.55328974e-01,  2.50453442e-01,\n",
       "          1.24494851e-01, -1.91524982e-01, -1.47560835e-01,\n",
       "          1.21826947e-01,  7.54971206e-02,  2.36745805e-01,\n",
       "          1.65055692e-01],\n",
       "        [ 2.64767736e-01,  7.88812041e-02,  1.40688837e-01,\n",
       "         -1.40343741e-01,  9.38641131e-02,  2.61843711e-01,\n",
       "         -1.73565865e-01,  3.52465212e-02, -2.16191173e-01,\n",
       "         -9.71770883e-02],\n",
       "        [ 1.76911443e-01,  1.13665313e-01,  3.17620933e-02,\n",
       "         -4.49630618e-03, -2.61113912e-01, -2.76050448e-01,\n",
       "         -7.86010772e-02,  2.00149417e-03,  1.34570390e-01,\n",
       "          2.39630193e-01],\n",
       "        [ 2.78020591e-01, -2.81839967e-01, -2.34429717e-01,\n",
       "         -2.13269636e-01, -2.05711544e-01,  1.33831203e-02,\n",
       "         -2.10958153e-01,  8.65727663e-04,  5.90770543e-02,\n",
       "          1.19539082e-01],\n",
       "        [ 5.80416322e-02,  1.72317326e-01,  2.46609360e-01,\n",
       "         -1.89698339e-02, -5.41087985e-03,  2.29877859e-01,\n",
       "         -2.06255466e-01,  2.06977963e-01,  6.13922179e-02,\n",
       "         -9.47019905e-02],\n",
       "        [ 2.76941389e-01, -4.31202203e-02,  9.62496698e-02,\n",
       "          2.06949919e-01,  7.79559314e-02, -1.24085814e-01,\n",
       "         -8.37827176e-02, -3.89938504e-02,  7.23937750e-02,\n",
       "         -1.94027364e-01]], dtype=float32)>,\n",
       " <tf.Variable 'dense_65/bias:0' shape=(10,) dtype=float32, numpy=array([0., 0., 0., 0., 0., 0., 0., 0., 0., 0.], dtype=float32)>]"
      ]
     },
     "execution_count": 103,
     "metadata": {},
     "output_type": "execute_result"
    }
   ],
   "source": [
    "model.build(input_shape=(None,3))\n",
    "model.weights"
   ]
  },
  {
   "cell_type": "code",
   "execution_count": 104,
   "metadata": {},
   "outputs": [
    {
     "name": "stdout",
     "output_type": "stream",
     "text": [
      "Model: \"sequential_25\"\n",
      "_________________________________________________________________\n",
      " Layer (type)                Output Shape              Param #   \n",
      "=================================================================\n",
      " dense_64 (Dense)            (None, 64)                256       \n",
      "                                                                 \n",
      " dense_65 (Dense)            (None, 10)                650       \n",
      "                                                                 \n",
      "=================================================================\n",
      "Total params: 906\n",
      "Trainable params: 906\n",
      "Non-trainable params: 0\n",
      "_________________________________________________________________\n"
     ]
    }
   ],
   "source": [
    "model.summary()"
   ]
  },
  {
   "cell_type": "code",
   "execution_count": 105,
   "metadata": {},
   "outputs": [
    {
     "name": "stdout",
     "output_type": "stream",
     "text": [
      "Model: \"test_model\"\n",
      "_________________________________________________________________\n",
      " Layer (type)                Output Shape              Param #   \n",
      "=================================================================\n",
      " test_layer_1 (Dense)        (None, 64)                256       \n",
      "                                                                 \n",
      " test_layer_2 (Dense)        (None, 10)                650       \n",
      "                                                                 \n",
      "=================================================================\n",
      "Total params: 906\n",
      "Trainable params: 906\n",
      "Non-trainable params: 0\n",
      "_________________________________________________________________\n"
     ]
    }
   ],
   "source": [
    "# naming a model\n",
    "\n",
    "model = keras.Sequential(name=\"test_model\")\n",
    "model.add(layers.Dense(64, activation=\"relu\", name=\"test_layer_1\"))\n",
    "model.add(layers.Dense(10, activation=\"softmax\", name=\"test_layer_2\"))\n",
    "\n",
    "model.build(input_shape=(None,3))\n",
    "model.summary()\n",
    "\n",
    "# params calc\n",
    "# \n",
    "# test_layer_1: \n",
    "# weights = 3 x 64 = 192\n",
    "# bias = 1 x 64 = 64\n",
    "# total = 256\n",
    "# \n",
    "# test_layer_2:\n",
    "# weights = 64 x 10 = 60\n",
    "# bias = 1 x 10 = 10\n",
    "# total = 650"
   ]
  },
  {
   "cell_type": "code",
   "execution_count": 106,
   "metadata": {},
   "outputs": [
    {
     "name": "stdout",
     "output_type": "stream",
     "text": [
      "Model: \"sequential_26\"\n",
      "_________________________________________________________________\n",
      " Layer (type)                Output Shape              Param #   \n",
      "=================================================================\n",
      " dense_66 (Dense)            (None, 64)                256       \n",
      "                                                                 \n",
      "=================================================================\n",
      "Total params: 256\n",
      "Trainable params: 256\n",
      "Non-trainable params: 0\n",
      "_________________________________________________________________\n"
     ]
    }
   ],
   "source": [
    "# we cant viwe the summary of the model until its built\n",
    "# model can be built on the go by using keras Input class\n",
    "\n",
    "model1 = keras.Sequential()\n",
    "model1.add(keras.Input(shape=(3,)))\n",
    "model1.add(layers.Dense(64, activation=\"relu\"))\n",
    "model1.summary()"
   ]
  },
  {
   "cell_type": "code",
   "execution_count": 107,
   "metadata": {},
   "outputs": [
    {
     "name": "stdout",
     "output_type": "stream",
     "text": [
      "Model: \"sequential_26\"\n",
      "_________________________________________________________________\n",
      " Layer (type)                Output Shape              Param #   \n",
      "=================================================================\n",
      " dense_66 (Dense)            (None, 64)                256       \n",
      "                                                                 \n",
      " dense_67 (Dense)            (None, 10)                650       \n",
      "                                                                 \n",
      "=================================================================\n",
      "Total params: 906\n",
      "Trainable params: 906\n",
      "Non-trainable params: 0\n",
      "_________________________________________________________________\n"
     ]
    }
   ],
   "source": [
    "model1.add(layers.Dense(10, activation=\"softmax\"))\n",
    "model1.summary()"
   ]
  },
  {
   "cell_type": "markdown",
   "metadata": {},
   "source": [
    "**The Functional API**"
   ]
  },
  {
   "cell_type": "code",
   "execution_count": 108,
   "metadata": {},
   "outputs": [
    {
     "name": "stdout",
     "output_type": "stream",
     "text": [
      "Model: \"model_9\"\n",
      "_________________________________________________________________\n",
      " Layer (type)                Output Shape              Param #   \n",
      "=================================================================\n",
      " input_layer (InputLayer)    [(None, 3)]               0         \n",
      "                                                                 \n",
      " feature_layer_1 (Dense)     (None, 64)                256       \n",
      "                                                                 \n",
      " feature_layer_2 (Dense)     (None, 64)                4160      \n",
      "                                                                 \n",
      " output_layer (Dense)        (None, 10)                650       \n",
      "                                                                 \n",
      "=================================================================\n",
      "Total params: 5,066\n",
      "Trainable params: 5,066\n",
      "Non-trainable params: 0\n",
      "_________________________________________________________________\n"
     ]
    }
   ],
   "source": [
    "inputs = keras.Input(shape=(3,), name=\"input_layer\")\n",
    "feature_1 = layers.Dense(64, activation=\"relu\", name=\"feature_layer_1\")(inputs)\n",
    "feature_2 = layers.Dense(64, activation=\"relu\", name=\"feature_layer_2\")(feature_1)\n",
    "outputs = layers.Dense(10, activation=\"softmax\", name=\"output_layer\")(feature_2)\n",
    "\n",
    "model = keras.Model(inputs=inputs, outputs=outputs)\n",
    "model.summary()"
   ]
  },
  {
   "cell_type": "code",
   "execution_count": 109,
   "metadata": {},
   "outputs": [
    {
     "data": {
      "text/plain": [
       "(TensorShape([None, 3]), tf.float32)"
      ]
     },
     "execution_count": 109,
     "metadata": {},
     "output_type": "execute_result"
    }
   ],
   "source": [
    "# the \"input_layer\" object is call \"Symbolic Tensor\" as it doen't contain actual data but encodes the specs of the actual tensor \n",
    "\n",
    "inputs.shape, inputs.dtype"
   ]
  },
  {
   "cell_type": "markdown",
   "metadata": {},
   "source": [
    "**The Functional API**\n",
    "\n",
    "*Multi-Inputs Multi-oututs model*"
   ]
  },
  {
   "cell_type": "code",
   "execution_count": 110,
   "metadata": {},
   "outputs": [
    {
     "name": "stdout",
     "output_type": "stream",
     "text": [
      "Model: \"model_10\"\n",
      "__________________________________________________________________________________________________\n",
      " Layer (type)                   Output Shape         Param #     Connected to                     \n",
      "==================================================================================================\n",
      " title (InputLayer)             [(None, 1000)]       0           []                               \n",
      "                                                                                                  \n",
      " text_body (InputLayer)         [(None, 1000)]       0           []                               \n",
      "                                                                                                  \n",
      " tags (InputLayer)              [(None, 100)]        0           []                               \n",
      "                                                                                                  \n",
      " concatenate_8 (Concatenate)    (None, 2100)         0           ['title[0][0]',                  \n",
      "                                                                  'text_body[0][0]',              \n",
      "                                                                  'tags[0][0]']                   \n",
      "                                                                                                  \n",
      " feature_layer_2 (Dense)        (None, 64)           134464      ['concatenate_8[0][0]']          \n",
      "                                                                                                  \n",
      " priority (Dense)               (None, 1)            65          ['feature_layer_2[0][0]']        \n",
      "                                                                                                  \n",
      " department (Dense)             (None, 4)            260         ['feature_layer_2[0][0]']        \n",
      "                                                                                                  \n",
      "==================================================================================================\n",
      "Total params: 134,789\n",
      "Trainable params: 134,789\n",
      "Non-trainable params: 0\n",
      "__________________________________________________________________________________________________\n"
     ]
    }
   ],
   "source": [
    "from ast import mod\n",
    "from unicodedata import name\n",
    "\n",
    "\n",
    "voc_size = 1000\n",
    "num_tags = 100\n",
    "num_dept = 4\n",
    "\n",
    "title = keras.Input(shape=(voc_size,), name=\"title\")\n",
    "text_body = keras.Input(shape=(voc_size,), name=\"text_body\")\n",
    "tags = keras.Input(shape=(num_tags,), name=\"tags\")\n",
    "\n",
    "feature_layer_1 = layers.Concatenate()([title, text_body, tags])\n",
    "feature_layer_2 = layers.Dense(64, activation=\"relu\", name=\"feature_layer_2\")(feature_layer_1)\n",
    "\n",
    "priority = layers.Dense(1, activation=\"sigmoid\", name=\"priority\")(feature_layer_2)\n",
    "dept = layers.Dense(num_dept, activation=\"softmax\", name=\"department\")(feature_layer_2)\n",
    "\n",
    "mimo_model = keras.Model(inputs=[title, text_body, tags], outputs=[priority, dept])\n",
    "mimo_model.summary()"
   ]
  },
  {
   "cell_type": "code",
   "execution_count": 111,
   "metadata": {},
   "outputs": [],
   "source": [
    "num_samples = 1280\n",
    "\n",
    "# dummy inputs\n",
    "title_data = np.random.randint(0, 2, size=(num_samples, voc_size))\n",
    "text_body_data = np.random.randint(0, 2, size=(num_samples, voc_size))\n",
    "tags_data = np.random.randint(0, 2, size=(num_samples, num_tags))\n",
    "\n",
    "# dummy targets\n",
    "priority_data = np.random.random(size=(num_samples,1))\n",
    "dept_data = np.random.randint(0, 2, size=(num_samples, num_dept))"
   ]
  },
  {
   "cell_type": "code",
   "execution_count": 112,
   "metadata": {},
   "outputs": [
    {
     "name": "stdout",
     "output_type": "stream",
     "text": [
      "40/40 [==============================] - 1s 3ms/step - loss: 4.2534 - priority_loss: 0.1805 - department_loss: 4.0729 - priority_mean_absolute_error: 0.3475 - department_accuracy: 0.2703\n"
     ]
    },
    {
     "data": {
      "text/plain": [
       "<keras.callbacks.History at 0x7f78bc54aa00>"
      ]
     },
     "execution_count": 112,
     "metadata": {},
     "output_type": "execute_result"
    }
   ],
   "source": [
    "mimo_model.compile(optimizer=\"rmsprop\",\n",
    "                    loss=[\"mean_squared_error\", \"categorical_crossentropy\"],\n",
    "                    metrics=[[\"mean_absolute_error\"], [\"accuracy\"]])\n",
    "\n",
    "mimo_model.fit([title_data, text_body_data, tags_data],\n",
    "                    [priority_data, dept_data],\n",
    "                    epochs=1)"
   ]
  },
  {
   "cell_type": "code",
   "execution_count": 113,
   "metadata": {},
   "outputs": [
    {
     "name": "stdout",
     "output_type": "stream",
     "text": [
      "40/40 [==============================] - 0s 2ms/step - loss: 4.8405 - priority_loss: 0.1316 - department_loss: 4.7089 - priority_mean_absolute_error: 0.2984 - department_accuracy: 0.2539\n",
      "40/40 [==============================] - 0s 1ms/step\n"
     ]
    }
   ],
   "source": [
    "mimo_model.evaluate([title_data, text_body_data, tags_data],\n",
    "                [priority_data, dept_data])\n",
    "\n",
    "priority_preds, dept_preds = mimo_model.predict([title_data, text_body_data, tags_data])"
   ]
  },
  {
   "cell_type": "code",
   "execution_count": 114,
   "metadata": {},
   "outputs": [
    {
     "name": "stdout",
     "output_type": "stream",
     "text": [
      "40/40 [==============================] - 1s 3ms/step - loss: 5.0350 - priority_loss: 0.1802 - department_loss: 4.8548 - priority_mean_absolute_error: 0.3492 - department_accuracy: 0.2703\n",
      "40/40 [==============================] - 0s 3ms/step - loss: 3.3643 - priority_loss: 0.1568 - department_loss: 3.2075 - priority_mean_absolute_error: 0.3244 - department_accuracy: 0.1484\n",
      "40/40 [==============================] - 0s 2ms/step\n"
     ]
    }
   ],
   "source": [
    "# providing inputs & targets as dicts using layer names\n",
    "\n",
    "mimo_model.compile(optimizer=\"rmsprop\",\n",
    "                    loss={\"priority\": \"mean_squared_error\", \"department\": \"categorical_crossentropy\"},\n",
    "                    metrics={\"priority\": [\"mean_absolute_error\"], \"department\": [\"accuracy\"]})\n",
    "\n",
    "mimo_model.fit({\"title\": title_data, \"text_body\": text_body_data, \"tags\": tags_data},\n",
    "                    {\"priority\": priority_data, \"department\": dept_data},\n",
    "                    epochs=1)\n",
    "\n",
    "mimo_model.evaluate({\"title\": title_data, \"text_body\": text_body_data, \"tags\": tags_data},\n",
    "                    {\"priority\": priority_data, \"department\": dept_data})\n",
    "\n",
    "priority_preds, dept_preds = mimo_model.predict({\"title\": title_data, \"text_body\": text_body_data, \"tags\": tags_data})"
   ]
  },
  {
   "cell_type": "code",
   "execution_count": 115,
   "metadata": {},
   "outputs": [
    {
     "data": {
      "image/png": "[encoded data removed]",
      "text/plain": [
       "<IPython.core.display.Image object>"
      ]
     },
     "execution_count": 115,
     "metadata": {},
     "output_type": "execute_result"
    }
   ],
   "source": [
    "keras.utils.plot_model(mimo_model, show_shapes=True)"
   ]
  },
  {
   "cell_type": "code",
   "execution_count": 116,
   "metadata": {},
   "outputs": [
    {
     "data": {
      "text/plain": [
       "[<keras.engine.input_layer.InputLayer at 0x7f78e8692460>,\n",
       " <keras.engine.input_layer.InputLayer at 0x7f78e86924c0>,\n",
       " <keras.engine.input_layer.InputLayer at 0x7f78e8692670>,\n",
       " <keras.layers.merging.concatenate.Concatenate at 0x7f78bc498820>,\n",
       " <keras.layers.core.dense.Dense at 0x7f78e86a2520>,\n",
       " <keras.layers.core.dense.Dense at 0x7f78e86a2130>,\n",
       " <keras.layers.core.dense.Dense at 0x7f78bc4f48e0>]"
      ]
     },
     "execution_count": 116,
     "metadata": {},
     "output_type": "execute_result"
    }
   ],
   "source": [
    "mimo_model.layers"
   ]
  },
  {
   "cell_type": "code",
   "execution_count": 117,
   "metadata": {},
   "outputs": [
    {
     "data": {
      "text/plain": [
       "(<KerasTensor: shape=(None, 1000) dtype=float32 (created by layer 'title')>,\n",
       " <KerasTensor: shape=(None, 1000) dtype=float32 (created by layer 'title')>)"
      ]
     },
     "execution_count": 117,
     "metadata": {},
     "output_type": "execute_result"
    }
   ],
   "source": [
    "mimo_model.layers[0].input, mimo_model.layers[0].output\n",
    "\n",
    "# this enables to do feature extraction"
   ]
  },
  {
   "cell_type": "code",
   "execution_count": 118,
   "metadata": {},
   "outputs": [
    {
     "data": {
      "image/png": "[encoded data removed]",
      "text/plain": [
       "<IPython.core.display.Image object>"
      ]
     },
     "execution_count": 118,
     "metadata": {},
     "output_type": "execute_result"
    }
   ],
   "source": [
    "features = mimo_model.layers[4].output\n",
    "difficulty = layers.Dense(3, activation=\"softmax\", name=\"difficulty\")(features)\n",
    "\n",
    "new_model = keras.Model(inputs=[title, text_body, tags],\n",
    "                        outputs=[priority, dept, difficulty])\n",
    "\n",
    "keras.utils.plot_model(new_model, show_shapes=True)"
   ]
  },
  {
   "cell_type": "markdown",
   "metadata": {},
   "source": [
    "**Subclassing Model Class**"
   ]
  },
  {
   "cell_type": "code",
   "execution_count": 119,
   "metadata": {},
   "outputs": [],
   "source": [
    "class CustomerTicketModel(keras.Model):\n",
    "\n",
    "    def __init__(self, num_depts):\n",
    "        super().__init__()\n",
    "        self.concat_layer = layers.Concatenate()\n",
    "        self.mixing_layer = layers.Dense(64, activation=\"relu\")\n",
    "        self.priority_scorer = layers.Dense(1, activation=\"sigmoid\", name=\"priority\")\n",
    "        self.dept_classifier= layers.Dense(num_dept, activation=\"softmax\", name=\"department\")\n",
    "\n",
    "    def call(self, inputs):\n",
    "        title = inputs[\"title\"]\n",
    "        text_body = inputs[\"text_body\"]\n",
    "        tags = inputs[\"tags\"]\n",
    "\n",
    "        features = self.concat_layer([title, text_body, tags])\n",
    "        features = self.mixing_layer(features)\n",
    "\n",
    "        priority = self.priority_scorer(features)\n",
    "        dept = self.dept_classifier(features)\n",
    "\n",
    "        return priority, dept"
   ]
  },
  {
   "cell_type": "code",
   "execution_count": 120,
   "metadata": {},
   "outputs": [
    {
     "name": "stdout",
     "output_type": "stream",
     "text": [
      "Model: \"customer_ticket_model_6\"\n",
      "_________________________________________________________________\n",
      " Layer (type)                Output Shape              Param #   \n",
      "=================================================================\n",
      " concatenate_9 (Concatenate)  multiple                 0         \n",
      "                                                                 \n",
      " dense_68 (Dense)            multiple                  134464    \n",
      "                                                                 \n",
      " priority (Dense)            multiple                  65        \n",
      "                                                                 \n",
      " department (Dense)          multiple                  260       \n",
      "                                                                 \n",
      "=================================================================\n",
      "Total params: 134,789\n",
      "Trainable params: 134,789\n",
      "Non-trainable params: 0\n",
      "_________________________________________________________________\n"
     ]
    }
   ],
   "source": [
    "ct_model = CustomerTicketModel(num_depts=4)\n",
    "\n",
    "priority, dept = ct_model({\"title\": title_data, \"text_body\": text_body_data, \"tags\": tags_data})\n",
    "\n",
    "ct_model.summary()"
   ]
  },
  {
   "cell_type": "code",
   "execution_count": 121,
   "metadata": {},
   "outputs": [
    {
     "name": "stdout",
     "output_type": "stream",
     "text": [
      "40/40 [==============================] - 1s 3ms/step - loss: 4.2678 - output_1_loss: 0.1249 - output_2_loss: 4.1429 - output_1_mean_absolute_error: 0.2906 - output_2_accuracy: 0.3156\n",
      "40/40 [==============================] - 0s 2ms/step - loss: 3.0566 - output_1_loss: 0.1035 - output_2_loss: 2.9530 - output_1_mean_absolute_error: 0.2696 - output_2_accuracy: 0.3094\n",
      "40/40 [==============================] - 0s 1ms/step\n"
     ]
    }
   ],
   "source": [
    "ct_model.compile(optimizer=\"rmsprop\",\n",
    "                    loss=[\"mean_squared_error\", \"categorical_crossentropy\"],\n",
    "                    metrics=[[\"mean_absolute_error\"], [\"accuracy\"]])\n",
    "\n",
    "ct_model.fit({\"title\": title_data, \"text_body\": text_body_data, \"tags\": tags_data},\n",
    "                    [priority_data, dept_data],\n",
    "                    epochs=1)\n",
    "\n",
    "ct_model.evaluate({\"title\": title_data, \"text_body\": text_body_data, \"tags\": tags_data},\n",
    "                    [priority_data, dept_data],)\n",
    "\n",
    "priority_preds, dept_preds = ct_model.predict({\"title\": title_data, \"text_body\": text_body_data, \"tags\": tags_data})"
   ]
  },
  {
   "cell_type": "markdown",
   "metadata": {},
   "source": [
    "**Mixing & Matching Different Components**"
   ]
  },
  {
   "cell_type": "markdown",
   "metadata": {},
   "source": [
    "*Creating a functional model that includes a sub-classed model*"
   ]
  },
  {
   "cell_type": "code",
   "execution_count": 122,
   "metadata": {},
   "outputs": [
    {
     "data": {
      "image/png": "[encoded data removed]",
      "text/plain": [
       "<IPython.core.display.Image object>"
      ]
     },
     "execution_count": 122,
     "metadata": {},
     "output_type": "execute_result"
    }
   ],
   "source": [
    "class Classifier(keras.Model):\n",
    "\n",
    "    def __init__(self, num_classes=2):\n",
    "        super().__init__()\n",
    "\n",
    "        if num_classes == 2:\n",
    "            num_units = 1\n",
    "            activation = \"sigmoid\"\n",
    "        else:\n",
    "            num_units = num_classes\n",
    "            activation = \"softmax\"\n",
    "\n",
    "        self.dense = layers.Dense(num_units, activation=activation)\n",
    "\n",
    "    def call (self, inputs):\n",
    "        return self.dense(inputs)\n",
    "\n",
    "inputs = keras.Input(shape=(3,))\n",
    "features = layers.Dense(64, activation=\"relu\")(inputs)\n",
    "outputs = Classifier(num_classes=10)(features)\n",
    "model2 = keras.Model(inputs=inputs, outputs=outputs)\n",
    "\n",
    "keras.utils.plot_model(model2, show_shapes=True)"
   ]
  },
  {
   "cell_type": "markdown",
   "metadata": {},
   "source": [
    "*Creating a sub-classed model that includes a functional model*"
   ]
  },
  {
   "cell_type": "code",
   "execution_count": 130,
   "metadata": {},
   "outputs": [
    {
     "name": "stdout",
     "output_type": "stream",
     "text": [
      "WARNING:tensorflow:Model was constructed with shape (None, 64) for input KerasTensor(type_spec=TensorSpec(shape=(None, 64), dtype=tf.float32, name='input_16'), name='input_16', description=\"created by layer 'input_16'\"), but it was called on an input with incompatible shape (None, None, 64).\n"
     ]
    },
    {
     "data": {
      "image/png": "[encoded data removed]",
      "text/plain": [
       "<IPython.core.display.Image object>"
      ]
     },
     "execution_count": 130,
     "metadata": {},
     "output_type": "execute_result"
    }
   ],
   "source": [
    "inputs = keras.Input(shape=(64,))\n",
    "outputs = layers.Dense(1, activation=\"sigmoid\")(inputs)\n",
    "binary_classifier = keras.Model(inputs=inputs, outputs=outputs)\n",
    "\n",
    "class MyModel(keras.Model):\n",
    "\n",
    "    def __init__(self, num_classes=2):\n",
    "        super().__init__()\n",
    "        self.dense = layers.Dense(64, activation=\"relu\")\n",
    "        self.classifier = binary_classifier\n",
    "\n",
    "    def call(self, inputs):\n",
    "        features = self.dense(inputs)\n",
    "        return self.classifier(features)\n",
    "\n",
    "model3 = MyModel()\n",
    "inputs = keras.Input(shape=(3,))\n",
    "output = model3(inputs)\n",
    "\n",
    "keras.utils.plot_model(model3, show_shapes=True)"
   ]
  }
 ],
 "metadata": {
  "kernelspec": {
   "display_name": "Python 3.9.12 ('tflab')",
   "language": "python",
   "name": "python3"
  },
  "language_info": {
   "codemirror_mode": {
    "name": "ipython",
    "version": 3
   },
   "file_extension": ".py",
   "mimetype": "text/x-python",
   "name": "python",
   "nbconvert_exporter": "python",
   "pygments_lexer": "ipython3",
   "version": "3.9.12"
  },
  "orig_nbformat": 4,
  "vscode": {
   "interpreter": {
    "hash": "03093e31b4ca43731012cb7d90aef1852be82b91fabe0f61f11e024946a263ab"
   }
  }
 },
 "nbformat": 4,
 "nbformat_minor": 2
}
