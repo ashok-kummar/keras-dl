{
 "cells": [
  {
   "cell_type": "code",
   "execution_count": 1,
   "metadata": {},
   "outputs": [],
   "source": [
    "import tensorflow as tf\n",
    "from tensorflow import keras\n",
    "from tensorflow.keras import layers\n",
    "\n",
    "import numpy as np"
   ]
  },
  {
   "cell_type": "markdown",
   "metadata": {},
   "source": [
    "**The Sequrntial Model**"
   ]
  },
  {
   "cell_type": "code",
   "execution_count": 2,
   "metadata": {},
   "outputs": [
    {
     "name": "stderr",
     "output_type": "stream",
     "text": [
      "2022-08-08 22:51:07.815530: I tensorflow/stream_executor/cuda/cuda_gpu_executor.cc:975] successful NUMA node read from SysFS had negative value (-1), but there must be at least one NUMA node, so returning NUMA node zero\n",
      "2022-08-08 22:51:07.819907: I tensorflow/stream_executor/cuda/cuda_gpu_executor.cc:975] successful NUMA node read from SysFS had negative value (-1), but there must be at least one NUMA node, so returning NUMA node zero\n",
      "2022-08-08 22:51:07.820135: I tensorflow/stream_executor/cuda/cuda_gpu_executor.cc:975] successful NUMA node read from SysFS had negative value (-1), but there must be at least one NUMA node, so returning NUMA node zero\n",
      "2022-08-08 22:51:07.820510: I tensorflow/core/platform/cpu_feature_guard.cc:193] This TensorFlow binary is optimized with oneAPI Deep Neural Network Library (oneDNN) to use the following CPU instructions in performance-critical operations:  AVX2 FMA\n",
      "To enable them in other operations, rebuild TensorFlow with the appropriate compiler flags.\n",
      "2022-08-08 22:51:07.821291: I tensorflow/stream_executor/cuda/cuda_gpu_executor.cc:975] successful NUMA node read from SysFS had negative value (-1), but there must be at least one NUMA node, so returning NUMA node zero\n",
      "2022-08-08 22:51:07.821484: I tensorflow/stream_executor/cuda/cuda_gpu_executor.cc:975] successful NUMA node read from SysFS had negative value (-1), but there must be at least one NUMA node, so returning NUMA node zero\n",
      "2022-08-08 22:51:07.821622: I tensorflow/stream_executor/cuda/cuda_gpu_executor.cc:975] successful NUMA node read from SysFS had negative value (-1), but there must be at least one NUMA node, so returning NUMA node zero\n",
      "2022-08-08 22:51:08.229218: I tensorflow/stream_executor/cuda/cuda_gpu_executor.cc:975] successful NUMA node read from SysFS had negative value (-1), but there must be at least one NUMA node, so returning NUMA node zero\n",
      "2022-08-08 22:51:08.229381: I tensorflow/stream_executor/cuda/cuda_gpu_executor.cc:975] successful NUMA node read from SysFS had negative value (-1), but there must be at least one NUMA node, so returning NUMA node zero\n",
      "2022-08-08 22:51:08.229509: I tensorflow/stream_executor/cuda/cuda_gpu_executor.cc:975] successful NUMA node read from SysFS had negative value (-1), but there must be at least one NUMA node, so returning NUMA node zero\n",
      "2022-08-08 22:51:08.229618: I tensorflow/core/common_runtime/gpu/gpu_device.cc:1532] Created device /job:localhost/replica:0/task:0/device:GPU:0 with 4630 MB memory:  -> device: 0, name: NVIDIA GeForce RTX 2060, pci bus id: 0000:01:00.0, compute capability: 7.5\n"
     ]
    }
   ],
   "source": [
    "model = keras.Sequential([\n",
    "    layers.Dense(64, activation=\"relu\"),\n",
    "    layers.Dense(10, activation=\"softmax\")\n",
    "])\n",
    "\n",
    "\n",
    "model = keras.Sequential()\n",
    "model.add(layers.Dense(64, activation=\"relu\"))\n",
    "model.add(layers.Dense(10, activation=\"softmax\"))"
   ]
  },
  {
   "cell_type": "code",
   "execution_count": 3,
   "metadata": {},
   "outputs": [],
   "source": [
    "# layers are built only when they are called for the first time\n",
    "# because, shape of layer's weight deps on input dimension which is not know during model creation\n",
    "\n",
    "# model.weights"
   ]
  },
  {
   "cell_type": "code",
   "execution_count": 4,
   "metadata": {},
   "outputs": [
    {
     "data": {
      "text/plain": [
       "[<tf.Variable 'dense_2/kernel:0' shape=(3, 64) dtype=float32, numpy=\n",
       " array([[-0.01728177,  0.18202105,  0.13344258, -0.06259781,  0.0762296 ,\n",
       "         -0.18444303,  0.11669421,  0.24633586,  0.2709825 , -0.2503717 ,\n",
       "         -0.02201816, -0.17047454,  0.06104934, -0.03936216,  0.25353473,\n",
       "         -0.07832678,  0.28366154, -0.23965922, -0.26351303,  0.20566106,\n",
       "         -0.07706985, -0.01520407, -0.21959433,  0.25699502, -0.00264814,\n",
       "          0.16713771,  0.08944726,  0.20166856,  0.00428656, -0.06611858,\n",
       "         -0.21239217,  0.25794816,  0.02162185, -0.0906793 ,  0.28345   ,\n",
       "         -0.24014968, -0.06032097,  0.12174377, -0.03453949,  0.06549767,\n",
       "          0.08190158, -0.23211288,  0.1715526 ,  0.16433403,  0.0593597 ,\n",
       "          0.02893716,  0.21983176,  0.148424  ,  0.28943014,  0.25018656,\n",
       "          0.23577774, -0.27212653,  0.16660509, -0.18008825,  0.2888024 ,\n",
       "         -0.1104705 , -0.2769277 , -0.02426618,  0.1345532 , -0.02354407,\n",
       "         -0.01406929, -0.0274477 , -0.11243063, -0.081715  ],\n",
       "        [ 0.18554935, -0.10232605,  0.27554333, -0.09230095,  0.14036387,\n",
       "          0.05727893,  0.27932346, -0.19463208, -0.01726222,  0.15928963,\n",
       "          0.08175752, -0.10859178,  0.04167411, -0.08967587,  0.17081758,\n",
       "          0.1488809 ,  0.09570146,  0.08163929,  0.14844438, -0.00192794,\n",
       "          0.24401104,  0.06410831, -0.29324052,  0.0949775 ,  0.19874135,\n",
       "          0.20094627,  0.09880447, -0.09659086, -0.24344748,  0.14400187,\n",
       "          0.2887841 , -0.15637551,  0.13828674, -0.22599635,  0.19904733,\n",
       "         -0.11481278,  0.01062328,  0.00825113, -0.03778994, -0.15379602,\n",
       "         -0.11624187, -0.20866683, -0.16086462,  0.05972636, -0.0004485 ,\n",
       "         -0.04555178,  0.26044565,  0.23296535,  0.0268285 , -0.11006947,\n",
       "         -0.29140508, -0.2273871 , -0.064188  ,  0.23302639,  0.00573304,\n",
       "         -0.17944577, -0.09327592,  0.2865646 ,  0.26122707,  0.12537178,\n",
       "          0.14522535,  0.09372956, -0.09538931,  0.27848494],\n",
       "        [-0.08768186, -0.1836455 ,  0.00138429,  0.03780672, -0.2731816 ,\n",
       "         -0.18813804, -0.20773076,  0.18910551,  0.25391924, -0.05109839,\n",
       "          0.26405948,  0.02011341,  0.00731054,  0.07427403, -0.22963583,\n",
       "         -0.07034707,  0.12339517,  0.14353004,  0.21327561, -0.2609328 ,\n",
       "          0.13040105,  0.16759825,  0.08529949, -0.17013943, -0.28291005,\n",
       "         -0.27000263,  0.2373066 ,  0.00481039, -0.14361082, -0.12778175,\n",
       "          0.12790632,  0.01397225, -0.21260692,  0.25150698,  0.14258897,\n",
       "          0.05552655, -0.12577553,  0.09161773, -0.15425357,  0.2487253 ,\n",
       "          0.24438578,  0.08892649, -0.1387345 , -0.11002666, -0.04427865,\n",
       "          0.23984838,  0.10764372, -0.05750625,  0.14144436,  0.00545281,\n",
       "          0.15628427,  0.27115065, -0.19303581, -0.15417452,  0.12928498,\n",
       "         -0.12847638,  0.23103523, -0.05274637, -0.21798488, -0.09774156,\n",
       "          0.14591855, -0.255366  , -0.09803115, -0.02709177]],\n",
       "       dtype=float32)>,\n",
       " <tf.Variable 'dense_2/bias:0' shape=(64,) dtype=float32, numpy=\n",
       " array([0., 0., 0., 0., 0., 0., 0., 0., 0., 0., 0., 0., 0., 0., 0., 0., 0.,\n",
       "        0., 0., 0., 0., 0., 0., 0., 0., 0., 0., 0., 0., 0., 0., 0., 0., 0.,\n",
       "        0., 0., 0., 0., 0., 0., 0., 0., 0., 0., 0., 0., 0., 0., 0., 0., 0.,\n",
       "        0., 0., 0., 0., 0., 0., 0., 0., 0., 0., 0., 0., 0.], dtype=float32)>,\n",
       " <tf.Variable 'dense_3/kernel:0' shape=(64, 10) dtype=float32, numpy=\n",
       " array([[ 2.17074484e-01, -2.19056025e-01,  7.96305537e-02,\n",
       "          4.14488614e-02, -1.73471987e-01,  1.25416100e-01,\n",
       "         -1.93215817e-01, -1.97822779e-01, -2.06122145e-01,\n",
       "          1.27461046e-01],\n",
       "        [-1.58436924e-01, -1.60176113e-01, -2.75985092e-01,\n",
       "         -2.23029256e-02,  2.57320493e-01, -1.33338273e-01,\n",
       "          2.63068944e-01,  2.80370742e-01, -1.05902195e-01,\n",
       "          6.43995106e-02],\n",
       "        [ 4.61100638e-02, -7.61910826e-02,  2.43031591e-01,\n",
       "          1.53610140e-01,  1.02945000e-01, -2.01045811e-01,\n",
       "         -2.23917291e-01, -1.96345717e-01, -7.13494420e-03,\n",
       "          1.80781066e-01],\n",
       "        [ 1.18140757e-01,  1.08397901e-02,  1.82681948e-01,\n",
       "         -2.56778181e-01, -1.50109857e-01, -2.82579899e-01,\n",
       "          1.01017654e-02,  2.75529832e-01, -1.04429752e-01,\n",
       "          6.19024634e-02],\n",
       "        [ 9.22510028e-02, -1.24821320e-01, -2.55198866e-01,\n",
       "          7.93420076e-02,  1.82297230e-01, -1.94099665e-01,\n",
       "         -1.19112521e-01,  1.08176261e-01,  2.17510313e-01,\n",
       "          1.21651590e-01],\n",
       "        [-2.13928908e-01,  2.39574313e-02,  2.66536206e-01,\n",
       "          8.58357549e-02, -1.11642182e-02, -2.05067694e-02,\n",
       "          8.47905278e-02,  8.71853232e-02, -1.77813560e-01,\n",
       "          2.31237084e-01],\n",
       "        [-2.43385494e-01,  2.12107092e-01,  8.72815251e-02,\n",
       "          1.20665342e-01, -2.53377199e-01,  1.58619344e-01,\n",
       "          1.88976228e-01, -3.77151668e-02,  2.21209496e-01,\n",
       "          1.51718974e-01],\n",
       "        [-1.47596404e-01,  2.21869648e-02, -1.04874834e-01,\n",
       "          2.82969385e-01,  7.82361627e-02,  1.06002808e-01,\n",
       "         -9.72592831e-03, -2.50848264e-01,  2.36554056e-01,\n",
       "         -1.48026481e-01],\n",
       "        [ 1.35919809e-01, -1.91541612e-02,  1.39136076e-01,\n",
       "          5.94370067e-02, -1.89822733e-01, -1.02386698e-01,\n",
       "          2.05671966e-01, -2.16597497e-01, -7.60444999e-03,\n",
       "         -1.70053363e-01],\n",
       "        [ 1.72791243e-01,  4.28040624e-02, -1.63106889e-01,\n",
       "          2.21172273e-02, -7.23528415e-02, -2.47960478e-01,\n",
       "         -1.86282039e-01, -1.94097430e-01, -1.43139958e-02,\n",
       "          2.11118698e-01],\n",
       "        [ 1.99614763e-02,  2.79899687e-01, -1.65547907e-01,\n",
       "         -6.35915548e-02,  2.41124243e-01,  2.56442577e-01,\n",
       "         -2.44664595e-01, -4.06189114e-02, -1.23906925e-01,\n",
       "          2.55947113e-02],\n",
       "        [-1.16657719e-01,  4.26815152e-02,  1.91374749e-01,\n",
       "         -2.19247043e-02,  2.05174416e-01, -2.06796348e-01,\n",
       "          1.50244743e-01,  2.60449797e-01, -2.32629776e-01,\n",
       "         -1.36347651e-01],\n",
       "        [ 1.76198334e-01, -2.65627652e-01,  1.75982326e-01,\n",
       "          5.29471040e-02,  6.36278093e-02, -1.40531659e-01,\n",
       "         -1.28101110e-01, -5.50817251e-02, -1.10304803e-01,\n",
       "         -6.60612881e-02],\n",
       "        [-1.70593962e-01, -1.11206502e-01, -7.35211521e-02,\n",
       "          2.41804570e-01,  1.34344995e-01, -2.13132650e-01,\n",
       "         -2.06618488e-01,  8.69478285e-02, -1.56354368e-01,\n",
       "         -2.39576176e-01],\n",
       "        [ 6.67087436e-02, -1.85571313e-01, -2.58436978e-01,\n",
       "          1.54694825e-01,  7.87000060e-02,  1.71048611e-01,\n",
       "         -6.93131089e-02, -7.82536268e-02,  7.90117979e-02,\n",
       "          9.80792642e-02],\n",
       "        [ 2.60564983e-02,  2.54491359e-01,  2.40856618e-01,\n",
       "         -6.91896230e-02, -1.61433622e-01,  7.87200928e-02,\n",
       "         -1.72544479e-01, -2.51686841e-01,  2.02265292e-01,\n",
       "          1.58936858e-01],\n",
       "        [ 1.52867854e-01,  2.13724554e-01,  1.77818775e-01,\n",
       "          2.27710336e-01,  2.55345732e-01, -9.20412838e-02,\n",
       "          1.40213192e-01,  8.58690739e-02, -2.30245888e-02,\n",
       "         -8.77007991e-02],\n",
       "        [ 6.42132163e-02, -2.16043442e-01,  8.63406956e-02,\n",
       "          5.03391922e-02,  1.86333299e-01, -7.37154484e-03,\n",
       "          9.95850563e-03,  1.21213764e-01,  2.15497285e-01,\n",
       "         -3.28498781e-02],\n",
       "        [ 8.51219893e-03,  1.31935477e-02, -1.98505938e-01,\n",
       "         -7.38510489e-03,  3.84712517e-02, -2.58263648e-02,\n",
       "          3.61145437e-02,  8.77046585e-02,  2.06857800e-01,\n",
       "         -8.18403363e-02],\n",
       "        [ 2.70011634e-01,  2.54499882e-01,  1.87638730e-01,\n",
       "          2.83424705e-01,  1.73316985e-01,  2.46611923e-01,\n",
       "         -5.02557009e-02, -8.81400406e-02,  4.58987057e-02,\n",
       "         -2.65262336e-01],\n",
       "        [ 2.34016627e-01,  1.12615198e-01, -2.07946926e-01,\n",
       "          1.93745971e-01, -7.48189837e-02, -2.20714837e-01,\n",
       "          1.34008825e-02,  2.20342845e-01,  1.53008997e-01,\n",
       "         -1.84713185e-01],\n",
       "        [ 7.74485171e-02,  2.59026796e-01, -1.77077979e-01,\n",
       "         -6.35819882e-02,  2.43172646e-02, -9.24241841e-02,\n",
       "         -6.35919571e-02,  2.51815408e-01, -1.46374941e-01,\n",
       "         -1.46820500e-01],\n",
       "        [-1.38503909e-02, -2.60964483e-01,  1.55724347e-01,\n",
       "         -8.96395743e-02, -7.73901492e-02,  1.54732555e-01,\n",
       "          1.75412863e-01,  2.56974727e-01,  8.56804848e-02,\n",
       "          1.39071763e-01],\n",
       "        [ 2.47884959e-01,  3.47283185e-02,  1.73696280e-01,\n",
       "          2.75216371e-01,  7.01336861e-02,  1.83018684e-01,\n",
       "         -7.18000531e-03,  5.60210943e-02, -2.78495818e-01,\n",
       "          1.03074193e-01],\n",
       "        [ 1.83330357e-01, -4.99430001e-02, -2.13515058e-01,\n",
       "         -6.03032857e-02,  3.66166234e-03,  1.96499199e-01,\n",
       "          2.22783476e-01, -8.82830769e-02,  2.13314027e-01,\n",
       "          2.06195384e-01],\n",
       "        [ 1.48228109e-01,  7.48572648e-02, -2.19567508e-01,\n",
       "         -2.49093473e-01,  5.54320216e-03,  2.84060687e-01,\n",
       "          9.05822217e-02, -1.83299333e-01,  1.85823143e-02,\n",
       "          5.23413718e-02],\n",
       "        [ 1.41068935e-01,  9.13734734e-02,  7.33092725e-02,\n",
       "          2.27762491e-01, -1.41564906e-02, -1.52656317e-01,\n",
       "         -1.49226487e-01,  4.00558114e-03,  2.12694287e-01,\n",
       "          1.33024901e-01],\n",
       "        [ 1.30200088e-01, -1.48512766e-01, -5.89863062e-02,\n",
       "         -1.52798206e-01, -1.29921690e-01, -8.18261504e-03,\n",
       "         -5.54482639e-02,  1.17237777e-01, -4.88560349e-02,\n",
       "          1.09569013e-01],\n",
       "        [-2.61063278e-01,  2.03845412e-01,  3.58880758e-02,\n",
       "          7.37246871e-03, -1.32807717e-01,  2.65666574e-01,\n",
       "         -1.33398220e-01, -2.30505452e-01, -1.26372382e-01,\n",
       "          2.00670928e-01],\n",
       "        [-2.71452367e-02,  1.36788666e-01, -2.76511639e-01,\n",
       "          1.40151083e-01,  1.39391661e-01, -7.05723166e-02,\n",
       "         -2.17252895e-01, -4.41267341e-02, -3.85114253e-02,\n",
       "         -2.72816777e-01],\n",
       "        [ 1.89958155e-01,  2.68206507e-01,  9.69453156e-02,\n",
       "          3.76256108e-02, -1.97507709e-01,  1.30831271e-01,\n",
       "         -2.21952498e-02, -2.08769411e-01,  6.94386959e-02,\n",
       "         -1.83002248e-01],\n",
       "        [-1.38214529e-02, -1.46303043e-01,  2.07124650e-01,\n",
       "         -2.71091968e-01, -1.08499229e-01, -2.60965705e-01,\n",
       "         -2.63519377e-01,  7.42405653e-02, -1.51957601e-01,\n",
       "          2.39168853e-01],\n",
       "        [-2.25854233e-01,  1.00621909e-01, -1.69933140e-02,\n",
       "          2.07967579e-01, -7.25721270e-02,  4.37198281e-02,\n",
       "         -2.60755539e-01, -2.62857169e-01, -2.76417136e-02,\n",
       "          2.81398982e-01],\n",
       "        [-1.24045208e-01, -1.17256507e-01, -2.19814956e-01,\n",
       "         -1.17856711e-01,  6.85347617e-02, -2.62225926e-01,\n",
       "         -4.63301539e-02, -1.80539906e-01, -1.80377588e-01,\n",
       "         -1.07307836e-01],\n",
       "        [-1.13647118e-01,  2.40069628e-03,  1.20185435e-01,\n",
       "         -5.47287762e-02,  1.23165101e-01,  2.19172239e-03,\n",
       "         -1.27762139e-01,  1.53684229e-01,  1.32840455e-01,\n",
       "          1.22388303e-01],\n",
       "        [ 2.57497102e-01, -2.56958902e-01, -1.40755907e-01,\n",
       "         -2.39729136e-01,  7.39736855e-02,  1.33734256e-01,\n",
       "          1.10358566e-01,  3.67064774e-02,  2.75358826e-01,\n",
       "          1.92936987e-01],\n",
       "        [-2.65690804e-01,  1.93678766e-01, -1.82962328e-01,\n",
       "          1.15052611e-01, -2.28839815e-02,  1.35959804e-01,\n",
       "          5.27476966e-02, -1.84969902e-02, -1.00362316e-01,\n",
       "          1.55186117e-01],\n",
       "        [ 2.70625561e-01,  4.28678691e-02, -1.06020600e-01,\n",
       "          2.69277960e-01,  2.82270938e-01, -1.03347182e-01,\n",
       "         -1.40225545e-01,  1.50209725e-01, -2.94844210e-02,\n",
       "          1.93265170e-01],\n",
       "        [ 2.79125899e-01, -1.17458403e-02,  1.43451720e-01,\n",
       "          1.39283240e-02,  2.42746025e-01,  1.82271838e-01,\n",
       "          8.01951289e-02, -1.77145123e-01,  1.94423497e-02,\n",
       "          1.37212485e-01],\n",
       "        [-1.84941083e-01,  2.79207319e-01, -1.05193570e-01,\n",
       "         -2.33843014e-01,  2.39724487e-01, -9.63825881e-02,\n",
       "         -1.17302537e-01, -1.24360964e-01,  5.09142280e-02,\n",
       "          7.91955292e-02],\n",
       "        [ 2.62835354e-01,  1.18748844e-02, -4.55919206e-02,\n",
       "          1.50599778e-02,  2.71084458e-01, -2.83947945e-01,\n",
       "          1.33505881e-01,  3.30073237e-02, -6.10081106e-02,\n",
       "          2.60763079e-01],\n",
       "        [ 7.76291192e-02,  1.77983344e-01, -5.58765680e-02,\n",
       "         -1.06005251e-01, -8.93856734e-02,  2.07388490e-01,\n",
       "          2.13700116e-01,  1.50020510e-01, -1.02498710e-01,\n",
       "         -5.32885790e-02],\n",
       "        [-6.19277358e-02,  1.90282464e-01, -2.09181085e-01,\n",
       "         -1.72069043e-01,  1.89360529e-01, -2.80439764e-01,\n",
       "          2.94130743e-02,  2.72372961e-02,  2.80460387e-01,\n",
       "         -4.38900143e-02],\n",
       "        [-3.32780778e-02, -1.33803189e-02, -1.94647610e-01,\n",
       "          2.61643827e-02, -2.06757724e-01,  1.06836766e-01,\n",
       "          5.44530749e-02,  1.14609092e-01,  1.86676741e-01,\n",
       "          1.94243312e-01],\n",
       "        [-9.15675610e-02, -2.27465853e-01,  2.64421701e-02,\n",
       "         -1.68085188e-01,  4.43497598e-02,  2.63766140e-01,\n",
       "         -1.05646789e-01,  1.20709419e-01, -1.42370433e-01,\n",
       "          3.65019739e-02],\n",
       "        [ 9.75586176e-02,  1.20581239e-01,  2.20582038e-01,\n",
       "         -2.80744255e-01,  1.30711317e-01,  1.40190184e-01,\n",
       "          1.73987448e-01,  2.60150760e-01, -2.29763493e-01,\n",
       "         -2.19376534e-01],\n",
       "        [ 4.88598347e-02, -1.87220126e-01,  2.82825828e-02,\n",
       "         -2.25723818e-01, -1.63885832e-01, -2.73435175e-01,\n",
       "         -2.67614573e-01,  1.00832790e-01, -6.60801679e-02,\n",
       "         -1.23441473e-01],\n",
       "        [-1.33524761e-01,  1.02311403e-01,  2.21125096e-01,\n",
       "          8.28639567e-02, -2.72041887e-01, -1.20758966e-01,\n",
       "          2.50561327e-01,  1.96752697e-01,  8.90550613e-02,\n",
       "          2.55255371e-01],\n",
       "        [-5.51671386e-02, -2.11536437e-01, -1.91568628e-01,\n",
       "         -1.65533841e-01,  2.08199084e-01, -3.82017940e-02,\n",
       "         -2.04967007e-01, -2.20665336e-01, -3.25707197e-02,\n",
       "          1.05049163e-01],\n",
       "        [-2.37336785e-01,  1.86308235e-01, -9.05234218e-02,\n",
       "         -2.21513405e-01, -8.70283544e-02,  1.97572470e-01,\n",
       "         -2.53556788e-01, -1.00980714e-01, -2.11111248e-01,\n",
       "         -1.72546715e-01],\n",
       "        [ 2.83779293e-01,  1.99901462e-02, -1.54520616e-01,\n",
       "         -9.45167243e-02, -1.36832461e-01,  2.07312316e-01,\n",
       "          3.66804600e-02, -4.94185537e-02,  2.61131734e-01,\n",
       "          1.91707402e-01],\n",
       "        [-4.75141406e-03,  2.49467701e-01,  4.59954143e-03,\n",
       "         -1.24981940e-01, -3.43051553e-02, -1.08729362e-01,\n",
       "         -2.12134331e-01,  2.71622688e-01,  1.62206531e-01,\n",
       "         -2.34395266e-03],\n",
       "        [-1.01741135e-01, -1.12254649e-01,  1.92770064e-01,\n",
       "          2.17611104e-01,  1.24480039e-01,  5.14913499e-02,\n",
       "         -8.55741650e-02,  5.74550033e-02,  9.25431848e-02,\n",
       "         -7.80451447e-02],\n",
       "        [-3.06985676e-02, -9.04743373e-02,  1.06752515e-01,\n",
       "          4.29026186e-02, -1.87769294e-01,  5.93974292e-02,\n",
       "          2.74775296e-01, -1.89676821e-01, -1.11164153e-02,\n",
       "          1.21588856e-01],\n",
       "        [-4.29499149e-03, -2.27952614e-01,  8.16780031e-02,\n",
       "          1.47055864e-01, -2.80024946e-01, -2.59064615e-01,\n",
       "         -2.60767341e-03, -3.31589580e-03,  2.13713646e-01,\n",
       "          7.99350441e-02],\n",
       "        [ 1.34360075e-01, -5.97684532e-02, -2.61035711e-01,\n",
       "          2.14434266e-01, -2.66989589e-01, -9.25461054e-02,\n",
       "          2.11898357e-01, -4.06061560e-02, -2.53517330e-01,\n",
       "         -1.73738107e-01],\n",
       "        [-1.79437876e-01,  3.13853323e-02,  8.62575471e-02,\n",
       "          2.16076672e-02,  2.15762943e-01, -2.18069598e-01,\n",
       "         -1.41472667e-01,  2.69518882e-01, -5.03939390e-03,\n",
       "         -5.93256056e-02],\n",
       "        [ 1.37140125e-01,  2.92468071e-02, -2.51908362e-01,\n",
       "          3.20817828e-02, -7.34728575e-03,  9.56011713e-02,\n",
       "         -8.89499485e-02, -1.64279342e-02, -2.06456691e-01,\n",
       "         -1.70914829e-02],\n",
       "        [ 1.80518925e-01,  1.46829516e-01,  2.10615307e-01,\n",
       "          8.48306417e-02, -1.09908059e-01,  1.14105940e-02,\n",
       "          4.72153425e-02,  1.37407213e-01, -9.81770307e-02,\n",
       "          1.18383795e-01],\n",
       "        [-7.37992227e-02, -2.02234745e-01, -1.06471986e-01,\n",
       "          1.86678588e-01, -4.10178304e-02,  1.32021755e-01,\n",
       "         -2.56512940e-01,  2.06745505e-01, -8.54084492e-02,\n",
       "          2.55252570e-01],\n",
       "        [ 1.85904175e-01, -1.51288137e-01,  7.57500231e-02,\n",
       "         -7.47717917e-02, -1.11712888e-01,  8.05260837e-02,\n",
       "         -7.29172677e-02, -1.73040688e-01,  1.85607553e-01,\n",
       "         -7.20233023e-02],\n",
       "        [-1.62813812e-01,  1.23460680e-01,  6.69803023e-02,\n",
       "         -2.02522606e-01, -6.34837151e-03,  1.59909844e-01,\n",
       "         -2.81164408e-01,  1.75237656e-05, -5.59010804e-02,\n",
       "         -2.58843303e-01],\n",
       "        [-2.05212235e-01, -8.32064748e-02,  2.74249345e-01,\n",
       "          2.16363996e-01, -2.28863284e-01, -2.80138850e-03,\n",
       "          1.40494198e-01, -2.38389075e-02, -1.50325954e-01,\n",
       "          4.56034541e-02],\n",
       "        [-1.29941851e-01, -7.01679736e-02, -2.35103920e-01,\n",
       "         -2.10668743e-01, -1.45267606e-01, -4.85550761e-02,\n",
       "         -2.04793543e-01, -1.08572409e-01,  6.01774454e-03,\n",
       "         -9.24997330e-02]], dtype=float32)>,\n",
       " <tf.Variable 'dense_3/bias:0' shape=(10,) dtype=float32, numpy=array([0., 0., 0., 0., 0., 0., 0., 0., 0., 0.], dtype=float32)>]"
      ]
     },
     "execution_count": 4,
     "metadata": {},
     "output_type": "execute_result"
    }
   ],
   "source": [
    "model.build(input_shape=(None,3))\n",
    "model.weights"
   ]
  },
  {
   "cell_type": "code",
   "execution_count": 5,
   "metadata": {},
   "outputs": [
    {
     "name": "stdout",
     "output_type": "stream",
     "text": [
      "Model: \"sequential_1\"\n",
      "_________________________________________________________________\n",
      " Layer (type)                Output Shape              Param #   \n",
      "=================================================================\n",
      " dense_2 (Dense)             (None, 64)                256       \n",
      "                                                                 \n",
      " dense_3 (Dense)             (None, 10)                650       \n",
      "                                                                 \n",
      "=================================================================\n",
      "Total params: 906\n",
      "Trainable params: 906\n",
      "Non-trainable params: 0\n",
      "_________________________________________________________________\n"
     ]
    }
   ],
   "source": [
    "model.summary()"
   ]
  },
  {
   "cell_type": "code",
   "execution_count": 6,
   "metadata": {},
   "outputs": [
    {
     "name": "stdout",
     "output_type": "stream",
     "text": [
      "Model: \"test_model\"\n",
      "_________________________________________________________________\n",
      " Layer (type)                Output Shape              Param #   \n",
      "=================================================================\n",
      " test_layer_1 (Dense)        (None, 64)                256       \n",
      "                                                                 \n",
      " test_layer_2 (Dense)        (None, 10)                650       \n",
      "                                                                 \n",
      "=================================================================\n",
      "Total params: 906\n",
      "Trainable params: 906\n",
      "Non-trainable params: 0\n",
      "_________________________________________________________________\n"
     ]
    }
   ],
   "source": [
    "# naming a model\n",
    "\n",
    "model = keras.Sequential(name=\"test_model\")\n",
    "model.add(layers.Dense(64, activation=\"relu\", name=\"test_layer_1\"))\n",
    "model.add(layers.Dense(10, activation=\"softmax\", name=\"test_layer_2\"))\n",
    "\n",
    "model.build(input_shape=(None,3))\n",
    "model.summary()\n",
    "\n",
    "# params calc\n",
    "# \n",
    "# test_layer_1: \n",
    "# weights = 3 x 64 = 192\n",
    "# bias = 1 x 64 = 64\n",
    "# total = 256\n",
    "# \n",
    "# test_layer_2:\n",
    "# weights = 64 x 10 = 60\n",
    "# bias = 1 x 10 = 10\n",
    "# total = 650"
   ]
  },
  {
   "cell_type": "code",
   "execution_count": 7,
   "metadata": {},
   "outputs": [
    {
     "name": "stdout",
     "output_type": "stream",
     "text": [
      "Model: \"sequential_2\"\n",
      "_________________________________________________________________\n",
      " Layer (type)                Output Shape              Param #   \n",
      "=================================================================\n",
      " dense_4 (Dense)             (None, 64)                256       \n",
      "                                                                 \n",
      "=================================================================\n",
      "Total params: 256\n",
      "Trainable params: 256\n",
      "Non-trainable params: 0\n",
      "_________________________________________________________________\n"
     ]
    }
   ],
   "source": [
    "# we cant viwe the summary of the model until its built\n",
    "# model can be built on the go by using keras Input class\n",
    "\n",
    "model1 = keras.Sequential()\n",
    "model1.add(keras.Input(shape=(3,)))\n",
    "model1.add(layers.Dense(64, activation=\"relu\"))\n",
    "model1.summary()"
   ]
  },
  {
   "cell_type": "code",
   "execution_count": 8,
   "metadata": {},
   "outputs": [
    {
     "name": "stdout",
     "output_type": "stream",
     "text": [
      "Model: \"sequential_2\"\n",
      "_________________________________________________________________\n",
      " Layer (type)                Output Shape              Param #   \n",
      "=================================================================\n",
      " dense_4 (Dense)             (None, 64)                256       \n",
      "                                                                 \n",
      " dense_5 (Dense)             (None, 10)                650       \n",
      "                                                                 \n",
      "=================================================================\n",
      "Total params: 906\n",
      "Trainable params: 906\n",
      "Non-trainable params: 0\n",
      "_________________________________________________________________\n"
     ]
    }
   ],
   "source": [
    "model1.add(layers.Dense(10, activation=\"softmax\"))\n",
    "model1.summary()"
   ]
  },
  {
   "cell_type": "markdown",
   "metadata": {},
   "source": [
    "**The Functional API**"
   ]
  },
  {
   "cell_type": "code",
   "execution_count": 9,
   "metadata": {},
   "outputs": [
    {
     "name": "stdout",
     "output_type": "stream",
     "text": [
      "Model: \"model\"\n",
      "_________________________________________________________________\n",
      " Layer (type)                Output Shape              Param #   \n",
      "=================================================================\n",
      " input_layer (InputLayer)    [(None, 3)]               0         \n",
      "                                                                 \n",
      " feature_layer_1 (Dense)     (None, 64)                256       \n",
      "                                                                 \n",
      " feature_layer_2 (Dense)     (None, 64)                4160      \n",
      "                                                                 \n",
      " output_layer (Dense)        (None, 10)                650       \n",
      "                                                                 \n",
      "=================================================================\n",
      "Total params: 5,066\n",
      "Trainable params: 5,066\n",
      "Non-trainable params: 0\n",
      "_________________________________________________________________\n"
     ]
    }
   ],
   "source": [
    "inputs = keras.Input(shape=(3,), name=\"input_layer\")\n",
    "feature_1 = layers.Dense(64, activation=\"relu\", name=\"feature_layer_1\")(inputs)\n",
    "feature_2 = layers.Dense(64, activation=\"relu\", name=\"feature_layer_2\")(feature_1)\n",
    "outputs = layers.Dense(10, activation=\"softmax\", name=\"output_layer\")(feature_2)\n",
    "\n",
    "model = keras.Model(inputs=inputs, outputs=outputs)\n",
    "model.summary()"
   ]
  },
  {
   "cell_type": "code",
   "execution_count": 10,
   "metadata": {},
   "outputs": [
    {
     "data": {
      "text/plain": [
       "(TensorShape([None, 3]), tf.float32)"
      ]
     },
     "execution_count": 10,
     "metadata": {},
     "output_type": "execute_result"
    }
   ],
   "source": [
    "# the \"input_layer\" object is call \"Symbolic Tensor\" as it doen't contain actual data but encodes the specs of the actual tensor \n",
    "\n",
    "inputs.shape, inputs.dtype"
   ]
  },
  {
   "cell_type": "markdown",
   "metadata": {},
   "source": [
    "**The Functional API**\n",
    "\n",
    "*Multi-Inputs Multi-oututs model*"
   ]
  },
  {
   "cell_type": "code",
   "execution_count": 11,
   "metadata": {},
   "outputs": [
    {
     "name": "stdout",
     "output_type": "stream",
     "text": [
      "Model: \"model_1\"\n",
      "__________________________________________________________________________________________________\n",
      " Layer (type)                   Output Shape         Param #     Connected to                     \n",
      "==================================================================================================\n",
      " title (InputLayer)             [(None, 1000)]       0           []                               \n",
      "                                                                                                  \n",
      " text_body (InputLayer)         [(None, 1000)]       0           []                               \n",
      "                                                                                                  \n",
      " tags (InputLayer)              [(None, 100)]        0           []                               \n",
      "                                                                                                  \n",
      " concatenate (Concatenate)      (None, 2100)         0           ['title[0][0]',                  \n",
      "                                                                  'text_body[0][0]',              \n",
      "                                                                  'tags[0][0]']                   \n",
      "                                                                                                  \n",
      " feature_layer_2 (Dense)        (None, 64)           134464      ['concatenate[0][0]']            \n",
      "                                                                                                  \n",
      " priority (Dense)               (None, 1)            65          ['feature_layer_2[0][0]']        \n",
      "                                                                                                  \n",
      " department (Dense)             (None, 4)            260         ['feature_layer_2[0][0]']        \n",
      "                                                                                                  \n",
      "==================================================================================================\n",
      "Total params: 134,789\n",
      "Trainable params: 134,789\n",
      "Non-trainable params: 0\n",
      "__________________________________________________________________________________________________\n"
     ]
    }
   ],
   "source": [
    "from ast import mod\n",
    "from unicodedata import name\n",
    "\n",
    "\n",
    "voc_size = 1000\n",
    "num_tags = 100\n",
    "num_dept = 4\n",
    "\n",
    "title = keras.Input(shape=(voc_size,), name=\"title\")\n",
    "text_body = keras.Input(shape=(voc_size,), name=\"text_body\")\n",
    "tags = keras.Input(shape=(num_tags,), name=\"tags\")\n",
    "\n",
    "feature_layer_1 = layers.Concatenate()([title, text_body, tags])\n",
    "feature_layer_2 = layers.Dense(64, activation=\"relu\", name=\"feature_layer_2\")(feature_layer_1)\n",
    "\n",
    "priority = layers.Dense(1, activation=\"sigmoid\", name=\"priority\")(feature_layer_2)\n",
    "dept = layers.Dense(num_dept, activation=\"softmax\", name=\"department\")(feature_layer_2)\n",
    "\n",
    "mimo_model = keras.Model(inputs=[title, text_body, tags], outputs=[priority, dept])\n",
    "mimo_model.summary()"
   ]
  },
  {
   "cell_type": "code",
   "execution_count": 12,
   "metadata": {},
   "outputs": [],
   "source": [
    "num_samples = 1280\n",
    "\n",
    "# dummy inputs\n",
    "title_data = np.random.randint(0, 2, size=(num_samples, voc_size))\n",
    "text_body_data = np.random.randint(0, 2, size=(num_samples, voc_size))\n",
    "tags_data = np.random.randint(0, 2, size=(num_samples, num_tags))\n",
    "\n",
    "# dummy targets\n",
    "priority_data = np.random.random(size=(num_samples,1))\n",
    "dept_data = np.random.randint(0, 2, size=(num_samples, num_dept))"
   ]
  },
  {
   "cell_type": "code",
   "execution_count": 13,
   "metadata": {},
   "outputs": [
    {
     "name": "stdout",
     "output_type": "stream",
     "text": [
      "40/40 [==============================] - 1s 2ms/step - loss: 4.4124 - priority_loss: 0.1431 - department_loss: 4.2693 - priority_mean_absolute_error: 0.3107 - department_accuracy: 0.2211\n"
     ]
    },
    {
     "data": {
      "text/plain": [
       "<keras.callbacks.History at 0x7feb40e9b820>"
      ]
     },
     "execution_count": 13,
     "metadata": {},
     "output_type": "execute_result"
    }
   ],
   "source": [
    "mimo_model.compile(optimizer=\"rmsprop\",\n",
    "                    loss=[\"mean_squared_error\", \"categorical_crossentropy\"],\n",
    "                    metrics=[[\"mean_absolute_error\"], [\"accuracy\"]])\n",
    "\n",
    "mimo_model.fit([title_data, text_body_data, tags_data],\n",
    "                    [priority_data, dept_data],\n",
    "                    epochs=1)"
   ]
  },
  {
   "cell_type": "code",
   "execution_count": 14,
   "metadata": {},
   "outputs": [
    {
     "name": "stdout",
     "output_type": "stream",
     "text": [
      "40/40 [==============================] - 0s 2ms/step - loss: 3.5415 - priority_loss: 0.1392 - department_loss: 3.4023 - priority_mean_absolute_error: 0.3077 - department_accuracy: 0.4461\n",
      "40/40 [==============================] - 0s 1ms/step\n"
     ]
    }
   ],
   "source": [
    "mimo_model.evaluate([title_data, text_body_data, tags_data],\n",
    "                [priority_data, dept_data])\n",
    "\n",
    "priority_preds, dept_preds = mimo_model.predict([title_data, text_body_data, tags_data])"
   ]
  },
  {
   "cell_type": "code",
   "execution_count": 15,
   "metadata": {},
   "outputs": [
    {
     "name": "stdout",
     "output_type": "stream",
     "text": [
      "40/40 [==============================] - 0s 2ms/step - loss: 4.5784 - priority_loss: 0.1682 - department_loss: 4.4102 - priority_mean_absolute_error: 0.3349 - department_accuracy: 0.2492\n",
      "40/40 [==============================] - 0s 2ms/step - loss: 7.3814 - priority_loss: 0.1079 - department_loss: 7.2735 - priority_mean_absolute_error: 0.2758 - department_accuracy: 0.1172\n",
      "40/40 [==============================] - 0s 1ms/step\n"
     ]
    }
   ],
   "source": [
    "# providing inputs & targets as dicts using layer names\n",
    "\n",
    "mimo_model.compile(optimizer=\"rmsprop\",\n",
    "                    loss={\"priority\": \"mean_squared_error\", \"department\": \"categorical_crossentropy\"},\n",
    "                    metrics={\"priority\": [\"mean_absolute_error\"], \"department\": [\"accuracy\"]})\n",
    "\n",
    "mimo_model.fit({\"title\": title_data, \"text_body\": text_body_data, \"tags\": tags_data},\n",
    "                    {\"priority\": priority_data, \"department\": dept_data},\n",
    "                    epochs=1)\n",
    "\n",
    "mimo_model.evaluate({\"title\": title_data, \"text_body\": text_body_data, \"tags\": tags_data},\n",
    "                    {\"priority\": priority_data, \"department\": dept_data})\n",
    "\n",
    "priority_preds, dept_preds = mimo_model.predict({\"title\": title_data, \"text_body\": text_body_data, \"tags\": tags_data})"
   ]
  },
  {
   "cell_type": "code",
   "execution_count": 16,
   "metadata": {},
   "outputs": [
    {
     "data": {
      "image/png": "[encoded data removed]",
      "text/plain": [
       "<IPython.core.display.Image object>"
      ]
     },
     "execution_count": 16,
     "metadata": {},
     "output_type": "execute_result"
    }
   ],
   "source": [
    "keras.utils.plot_model(mimo_model, show_shapes=True)"
   ]
  },
  {
   "cell_type": "code",
   "execution_count": 17,
   "metadata": {},
   "outputs": [
    {
     "data": {
      "text/plain": [
       "[<keras.engine.input_layer.InputLayer at 0x7feb5fc88850>,\n",
       " <keras.engine.input_layer.InputLayer at 0x7feb5fc888b0>,\n",
       " <keras.engine.input_layer.InputLayer at 0x7feb5fc88c10>,\n",
       " <keras.layers.merging.concatenate.Concatenate at 0x7feb5fd33910>,\n",
       " <keras.layers.core.dense.Dense at 0x7feb5fc88430>,\n",
       " <keras.layers.core.dense.Dense at 0x7feb5fc837f0>,\n",
       " <keras.layers.core.dense.Dense at 0x7feb5fc9dca0>]"
      ]
     },
     "execution_count": 17,
     "metadata": {},
     "output_type": "execute_result"
    }
   ],
   "source": [
    "mimo_model.layers"
   ]
  },
  {
   "cell_type": "code",
   "execution_count": 18,
   "metadata": {},
   "outputs": [
    {
     "data": {
      "text/plain": [
       "(<KerasTensor: shape=(None, 1000) dtype=float32 (created by layer 'title')>,\n",
       " <KerasTensor: shape=(None, 1000) dtype=float32 (created by layer 'title')>)"
      ]
     },
     "execution_count": 18,
     "metadata": {},
     "output_type": "execute_result"
    }
   ],
   "source": [
    "mimo_model.layers[0].input, mimo_model.layers[0].output\n",
    "\n",
    "# this enables to do feature extraction"
   ]
  },
  {
   "cell_type": "code",
   "execution_count": 19,
   "metadata": {},
   "outputs": [
    {
     "data": {
      "image/png": "[encoded data removed]",
      "text/plain": [
       "<IPython.core.display.Image object>"
      ]
     },
     "execution_count": 19,
     "metadata": {},
     "output_type": "execute_result"
    }
   ],
   "source": [
    "features = mimo_model.layers[4].output\n",
    "difficulty = layers.Dense(3, activation=\"softmax\", name=\"difficulty\")(features)\n",
    "\n",
    "new_model = keras.Model(inputs=[title, text_body, tags],\n",
    "                        outputs=[priority, dept, difficulty])\n",
    "\n",
    "keras.utils.plot_model(new_model, show_shapes=True)"
   ]
  },
  {
   "cell_type": "markdown",
   "metadata": {},
   "source": [
    "**Subclassing Model Class**"
   ]
  },
  {
   "cell_type": "code",
   "execution_count": 20,
   "metadata": {},
   "outputs": [],
   "source": [
    "class CustomerTicketModel(keras.Model):\n",
    "\n",
    "    def __init__(self, num_depts):\n",
    "        super().__init__()\n",
    "        self.concat_layer = layers.Concatenate()\n",
    "        self.mixing_layer = layers.Dense(64, activation=\"relu\")\n",
    "        self.priority_scorer = layers.Dense(1, activation=\"sigmoid\", name=\"priority\")\n",
    "        self.dept_classifier= layers.Dense(num_dept, activation=\"softmax\", name=\"department\")\n",
    "\n",
    "    def call(self, inputs):\n",
    "        title = inputs[\"title\"]\n",
    "        text_body = inputs[\"text_body\"]\n",
    "        tags = inputs[\"tags\"]\n",
    "\n",
    "        features = self.concat_layer([title, text_body, tags])\n",
    "        features = self.mixing_layer(features)\n",
    "\n",
    "        priority = self.priority_scorer(features)\n",
    "        dept = self.dept_classifier(features)\n",
    "\n",
    "        return priority, dept"
   ]
  },
  {
   "cell_type": "code",
   "execution_count": 21,
   "metadata": {},
   "outputs": [
    {
     "name": "stdout",
     "output_type": "stream",
     "text": [
      "Model: \"customer_ticket_model\"\n",
      "_________________________________________________________________\n",
      " Layer (type)                Output Shape              Param #   \n",
      "=================================================================\n",
      " concatenate_1 (Concatenate)  multiple                 0         \n",
      "                                                                 \n",
      " dense_6 (Dense)             multiple                  134464    \n",
      "                                                                 \n",
      " priority (Dense)            multiple                  65        \n",
      "                                                                 \n",
      " department (Dense)          multiple                  260       \n",
      "                                                                 \n",
      "=================================================================\n",
      "Total params: 134,789\n",
      "Trainable params: 134,789\n",
      "Non-trainable params: 0\n",
      "_________________________________________________________________\n"
     ]
    }
   ],
   "source": [
    "ct_model = CustomerTicketModel(num_depts=4)\n",
    "\n",
    "priority, dept = ct_model({\"title\": title_data, \"text_body\": text_body_data, \"tags\": tags_data})\n",
    "\n",
    "ct_model.summary()"
   ]
  },
  {
   "cell_type": "code",
   "execution_count": 22,
   "metadata": {},
   "outputs": [
    {
     "name": "stdout",
     "output_type": "stream",
     "text": [
      "40/40 [==============================] - 1s 2ms/step - loss: 4.4532 - output_1_loss: 0.1317 - output_2_loss: 4.3215 - output_1_mean_absolute_error: 0.2984 - output_2_accuracy: 0.3602\n",
      "40/40 [==============================] - 0s 2ms/step - loss: 4.4251 - output_1_loss: 0.1448 - output_2_loss: 4.2804 - output_1_mean_absolute_error: 0.3081 - output_2_accuracy: 0.5719\n",
      "40/40 [==============================] - 0s 1ms/step\n"
     ]
    }
   ],
   "source": [
    "ct_model.compile(optimizer=\"rmsprop\",\n",
    "                    loss=[\"mean_squared_error\", \"categorical_crossentropy\"],\n",
    "                    metrics=[[\"mean_absolute_error\"], [\"accuracy\"]])\n",
    "\n",
    "ct_model.fit({\"title\": title_data, \"text_body\": text_body_data, \"tags\": tags_data},\n",
    "                    [priority_data, dept_data],\n",
    "                    epochs=1)\n",
    "\n",
    "ct_model.evaluate({\"title\": title_data, \"text_body\": text_body_data, \"tags\": tags_data},\n",
    "                    [priority_data, dept_data],)\n",
    "\n",
    "priority_preds, dept_preds = ct_model.predict({\"title\": title_data, \"text_body\": text_body_data, \"tags\": tags_data})"
   ]
  },
  {
   "cell_type": "markdown",
   "metadata": {},
   "source": [
    "**Mixing & Matching Different Components**"
   ]
  },
  {
   "cell_type": "markdown",
   "metadata": {},
   "source": [
    "*Creating a functional model that includes a sub-classed model*"
   ]
  },
  {
   "cell_type": "code",
   "execution_count": 23,
   "metadata": {},
   "outputs": [
    {
     "data": {
      "image/png": "[encoded data removed]",
      "text/plain": [
       "<IPython.core.display.Image object>"
      ]
     },
     "execution_count": 23,
     "metadata": {},
     "output_type": "execute_result"
    }
   ],
   "source": [
    "class Classifier(keras.Model):\n",
    "\n",
    "    def __init__(self, num_classes=2):\n",
    "        super().__init__()\n",
    "\n",
    "        if num_classes == 2:\n",
    "            num_units = 1\n",
    "            activation = \"sigmoid\"\n",
    "        else:\n",
    "            num_units = num_classes\n",
    "            activation = \"softmax\"\n",
    "\n",
    "        self.dense = layers.Dense(num_units, activation=activation)\n",
    "\n",
    "    def call (self, inputs):\n",
    "        return self.dense(inputs)\n",
    "\n",
    "inputs = keras.Input(shape=(3,))\n",
    "features = layers.Dense(64, activation=\"relu\")(inputs)\n",
    "outputs = Classifier(num_classes=10)(features)\n",
    "model2 = keras.Model(inputs=inputs, outputs=outputs)\n",
    "\n",
    "keras.utils.plot_model(model2, show_shapes=True)"
   ]
  },
  {
   "cell_type": "markdown",
   "metadata": {},
   "source": [
    "*Creating a sub-classed model that includes a functional model*"
   ]
  },
  {
   "cell_type": "code",
   "execution_count": 24,
   "metadata": {},
   "outputs": [
    {
     "data": {
      "image/png": "[encoded data removed]",
      "text/plain": [
       "<IPython.core.display.Image object>"
      ]
     },
     "execution_count": 24,
     "metadata": {},
     "output_type": "execute_result"
    }
   ],
   "source": [
    "inputs = keras.Input(shape=(64,))\n",
    "outputs = layers.Dense(1, activation=\"sigmoid\")(inputs)\n",
    "binary_classifier = keras.Model(inputs=inputs, outputs=outputs)\n",
    "\n",
    "class MyModel(keras.Model):\n",
    "\n",
    "    def __init__(self, num_classes=2):\n",
    "        super().__init__()\n",
    "        self.dense = layers.Dense(64, activation=\"relu\")\n",
    "        self.classifier = binary_classifier\n",
    "\n",
    "    def call(self, inputs):\n",
    "        features = self.dense(inputs)\n",
    "        return self.classifier(features)\n",
    "\n",
    "model3 = MyModel()\n",
    "inputs = keras.Input(shape=(3,))\n",
    "output = model3(inputs)\n",
    "\n",
    "keras.utils.plot_model(model3, show_shapes=True)"
   ]
  },
  {
   "cell_type": "code",
   "execution_count": 25,
   "metadata": {},
   "outputs": [],
   "source": [
    "from numba import cuda\n",
    "cuda.select_device(0)\n",
    "cuda.close()"
   ]
  }
 ],
 "metadata": {
  "kernelspec": {
   "display_name": "Python 3.9.12 ('tflab')",
   "language": "python",
   "name": "python3"
  },
  "language_info": {
   "codemirror_mode": {
    "name": "ipython",
    "version": 3
   },
   "file_extension": ".py",
   "mimetype": "text/x-python",
   "name": "python",
   "nbconvert_exporter": "python",
   "pygments_lexer": "ipython3",
   "version": "3.9.12"
  },
  "orig_nbformat": 4,
  "vscode": {
   "interpreter": {
    "hash": "03093e31b4ca43731012cb7d90aef1852be82b91fabe0f61f11e024946a263ab"
   }
  }
 },
 "nbformat": 4,
 "nbformat_minor": 2
}
