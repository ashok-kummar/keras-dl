{
 "cells": [
  {
   "cell_type": "code",
   "execution_count": 1,
   "metadata": {},
   "outputs": [
    {
     "name": "stderr",
     "output_type": "stream",
     "text": [
      "2022-08-10 00:10:46.769793: I tensorflow/stream_executor/cuda/cuda_gpu_executor.cc:975] successful NUMA node read from SysFS had negative value (-1), but there must be at least one NUMA node, so returning NUMA node zero\n",
      "2022-08-10 00:10:46.774058: I tensorflow/stream_executor/cuda/cuda_gpu_executor.cc:975] successful NUMA node read from SysFS had negative value (-1), but there must be at least one NUMA node, so returning NUMA node zero\n",
      "2022-08-10 00:10:46.774262: I tensorflow/stream_executor/cuda/cuda_gpu_executor.cc:975] successful NUMA node read from SysFS had negative value (-1), but there must be at least one NUMA node, so returning NUMA node zero\n"
     ]
    },
    {
     "data": {
      "text/plain": [
       "[PhysicalDevice(name='/physical_device:CPU:0', device_type='CPU'),\n",
       " PhysicalDevice(name='/physical_device:GPU:0', device_type='GPU')]"
      ]
     },
     "execution_count": 1,
     "metadata": {},
     "output_type": "execute_result"
    }
   ],
   "source": [
    "import tensorflow as tf\n",
    "from tensorflow import keras\n",
    "from tensorflow.keras import layers\n",
    "\n",
    "import numpy as np\n",
    "import matplotlib.pyplot as plt\n",
    "\n",
    "import os, shutil, pathlib\n",
    "\n",
    "tf.config.list_physical_devices()"
   ]
  },
  {
   "cell_type": "code",
   "execution_count": 6,
   "metadata": {},
   "outputs": [
    {
     "name": "stdout",
     "output_type": "stream",
     "text": [
      "Found 1875 files belonging to 2 classes.\n",
      "Found 941 files belonging to 2 classes.\n",
      "Found 1862 files belonging to 2 classes.\n"
     ]
    }
   ],
   "source": [
    "orginal_dir = pathlib.Path(\"/home/ashok/workspace/dataset/PetImages/\")\n",
    "new_base_dir = pathlib.Path(\"/home/ashok/workspace/dataset/cats_vs_dogs_small/\")\n",
    "\n",
    "train_dataset = keras.utils.image_dataset_from_directory(\n",
    "    new_base_dir/\"train\",\n",
    "    image_size=(180,180),\n",
    "    batch_size=32\n",
    ")\n",
    "\n",
    "val_dataset = keras.utils.image_dataset_from_directory(\n",
    "    new_base_dir/\"validation\",\n",
    "    image_size=(180,180),\n",
    "    batch_size=32\n",
    ")\n",
    "\n",
    "test_dataset = keras.utils.image_dataset_from_directory(\n",
    "    new_base_dir/\"test\",\n",
    "    image_size=(180,180),\n",
    "    batch_size=32\n",
    ")"
   ]
  },
  {
   "cell_type": "code",
   "execution_count": 2,
   "metadata": {},
   "outputs": [
    {
     "name": "stderr",
     "output_type": "stream",
     "text": [
      "2022-08-10 00:10:46.854968: I tensorflow/core/platform/cpu_feature_guard.cc:193] This TensorFlow binary is optimized with oneAPI Deep Neural Network Library (oneDNN) to use the following CPU instructions in performance-critical operations:  AVX2 FMA\n",
      "To enable them in other operations, rebuild TensorFlow with the appropriate compiler flags.\n",
      "2022-08-10 00:10:46.855939: I tensorflow/stream_executor/cuda/cuda_gpu_executor.cc:975] successful NUMA node read from SysFS had negative value (-1), but there must be at least one NUMA node, so returning NUMA node zero\n",
      "2022-08-10 00:10:46.856225: I tensorflow/stream_executor/cuda/cuda_gpu_executor.cc:975] successful NUMA node read from SysFS had negative value (-1), but there must be at least one NUMA node, so returning NUMA node zero\n",
      "2022-08-10 00:10:46.856364: I tensorflow/stream_executor/cuda/cuda_gpu_executor.cc:975] successful NUMA node read from SysFS had negative value (-1), but there must be at least one NUMA node, so returning NUMA node zero\n",
      "2022-08-10 00:10:47.312038: I tensorflow/stream_executor/cuda/cuda_gpu_executor.cc:975] successful NUMA node read from SysFS had negative value (-1), but there must be at least one NUMA node, so returning NUMA node zero\n",
      "2022-08-10 00:10:47.312293: I tensorflow/stream_executor/cuda/cuda_gpu_executor.cc:975] successful NUMA node read from SysFS had negative value (-1), but there must be at least one NUMA node, so returning NUMA node zero\n",
      "2022-08-10 00:10:47.312429: I tensorflow/stream_executor/cuda/cuda_gpu_executor.cc:975] successful NUMA node read from SysFS had negative value (-1), but there must be at least one NUMA node, so returning NUMA node zero\n",
      "2022-08-10 00:10:47.312540: I tensorflow/core/common_runtime/gpu/gpu_device.cc:1532] Created device /job:localhost/replica:0/task:0/device:GPU:0 with 4630 MB memory:  -> device: 0, name: NVIDIA GeForce RTX 2060, pci bus id: 0000:01:00.0, compute capability: 7.5\n"
     ]
    },
    {
     "name": "stdout",
     "output_type": "stream",
     "text": [
      "Downloading data from https://storage.googleapis.com/tensorflow/keras-applications/vgg16/vgg16_weights_tf_dim_ordering_tf_kernels_notop.h5\n",
      "58889256/58889256 [==============================] - 4s 0us/step\n"
     ]
    }
   ],
   "source": [
    "conv_base = keras.applications.vgg16.VGG16(\n",
    "    weights=\"imagenet\",\n",
    "    include_top=False,\n",
    "    input_shape=(180,180,3)\n",
    ")"
   ]
  },
  {
   "cell_type": "code",
   "execution_count": 4,
   "metadata": {},
   "outputs": [
    {
     "name": "stdout",
     "output_type": "stream",
     "text": [
      "Model: \"vgg16\"\n",
      "_________________________________________________________________\n",
      " Layer (type)                Output Shape              Param #   \n",
      "=================================================================\n",
      " input_1 (InputLayer)        [(None, 180, 180, 3)]     0         \n",
      "                                                                 \n",
      " block1_conv1 (Conv2D)       (None, 180, 180, 64)      1792      \n",
      "                                                                 \n",
      " block1_conv2 (Conv2D)       (None, 180, 180, 64)      36928     \n",
      "                                                                 \n",
      " block1_pool (MaxPooling2D)  (None, 90, 90, 64)        0         \n",
      "                                                                 \n",
      " block2_conv1 (Conv2D)       (None, 90, 90, 128)       73856     \n",
      "                                                                 \n",
      " block2_conv2 (Conv2D)       (None, 90, 90, 128)       147584    \n",
      "                                                                 \n",
      " block2_pool (MaxPooling2D)  (None, 45, 45, 128)       0         \n",
      "                                                                 \n",
      " block3_conv1 (Conv2D)       (None, 45, 45, 256)       295168    \n",
      "                                                                 \n",
      " block3_conv2 (Conv2D)       (None, 45, 45, 256)       590080    \n",
      "                                                                 \n",
      " block3_conv3 (Conv2D)       (None, 45, 45, 256)       590080    \n",
      "                                                                 \n",
      " block3_pool (MaxPooling2D)  (None, 22, 22, 256)       0         \n",
      "                                                                 \n",
      " block4_conv1 (Conv2D)       (None, 22, 22, 512)       1180160   \n",
      "                                                                 \n",
      " block4_conv2 (Conv2D)       (None, 22, 22, 512)       2359808   \n",
      "                                                                 \n",
      " block4_conv3 (Conv2D)       (None, 22, 22, 512)       2359808   \n",
      "                                                                 \n",
      " block4_pool (MaxPooling2D)  (None, 11, 11, 512)       0         \n",
      "                                                                 \n",
      " block5_conv1 (Conv2D)       (None, 11, 11, 512)       2359808   \n",
      "                                                                 \n",
      " block5_conv2 (Conv2D)       (None, 11, 11, 512)       2359808   \n",
      "                                                                 \n",
      " block5_conv3 (Conv2D)       (None, 11, 11, 512)       2359808   \n",
      "                                                                 \n",
      " block5_pool (MaxPooling2D)  (None, 5, 5, 512)         0         \n",
      "                                                                 \n",
      "=================================================================\n",
      "Total params: 14,714,688\n",
      "Trainable params: 14,714,688\n",
      "Non-trainable params: 0\n",
      "_________________________________________________________________\n"
     ]
    }
   ],
   "source": [
    "conv_base.summary()"
   ]
  },
  {
   "cell_type": "markdown",
   "metadata": {},
   "source": [
    "**FAST FEATURE EXTRACTION WITHOUT DATA AUGMENTATION**"
   ]
  },
  {
   "cell_type": "code",
   "execution_count": 5,
   "metadata": {},
   "outputs": [],
   "source": [
    "def get_features_and_labels(dataset):\n",
    "    all_features = []\n",
    "    all_labels = []\n",
    "\n",
    "    for images, labels in dataset:\n",
    "        preprocessed_images = keras.applications.vgg16.preprocess_input(images)\n",
    "        features = conv_base.predict(preprocessed_images)\n",
    "        all_features.append(features)\n",
    "        all_labels.append(labels)\n",
    "\n",
    "    return np.concatenate(all_features), np.concatenate(all_labels)"
   ]
  },
  {
   "cell_type": "code",
   "execution_count": 7,
   "metadata": {},
   "outputs": [
    {
     "name": "stderr",
     "output_type": "stream",
     "text": [
      "2022-08-10 00:26:12.772658: I tensorflow/stream_executor/cuda/cuda_dnn.cc:384] Loaded cuDNN version 8100\n",
      "2022-08-10 00:26:13.255642: I tensorflow/core/platform/default/subprocess.cc:304] Start cannot spawn child process: No such file or directory\n",
      "2022-08-10 00:26:13.256184: I tensorflow/core/platform/default/subprocess.cc:304] Start cannot spawn child process: No such file or directory\n",
      "2022-08-10 00:26:13.256204: W tensorflow/stream_executor/gpu/asm_compiler.cc:80] Couldn't get ptxas version string: INTERNAL: Couldn't invoke ptxas --version\n",
      "2022-08-10 00:26:13.256773: I tensorflow/core/platform/default/subprocess.cc:304] Start cannot spawn child process: No such file or directory\n",
      "2022-08-10 00:26:13.256821: W tensorflow/stream_executor/gpu/redzone_allocator.cc:314] INTERNAL: Failed to launch ptxas\n",
      "Relying on driver to perform ptx compilation. \n",
      "Modify $PATH to customize ptxas location.\n",
      "This message will be only logged once.\n"
     ]
    },
    {
     "name": "stdout",
     "output_type": "stream",
     "text": [
      "1/1 [==============================] - 3s 3s/step\n",
      "1/1 [==============================] - 0s 21ms/step\n",
      "1/1 [==============================] - 0s 19ms/step\n",
      "1/1 [==============================] - 0s 19ms/step\n",
      "1/1 [==============================] - 0s 18ms/step\n",
      "1/1 [==============================] - 0s 22ms/step\n",
      "1/1 [==============================] - 0s 18ms/step\n",
      "1/1 [==============================] - 0s 15ms/step\n",
      "1/1 [==============================] - 0s 20ms/step\n",
      "1/1 [==============================] - 0s 19ms/step\n",
      "1/1 [==============================] - 0s 14ms/step\n",
      "1/1 [==============================] - 0s 15ms/step\n",
      "1/1 [==============================] - 0s 18ms/step\n",
      "1/1 [==============================] - 0s 15ms/step\n",
      "1/1 [==============================] - 0s 15ms/step\n",
      "1/1 [==============================] - 0s 15ms/step\n",
      "1/1 [==============================] - 0s 15ms/step\n",
      "1/1 [==============================] - 0s 18ms/step\n",
      "1/1 [==============================] - 0s 16ms/step\n",
      "1/1 [==============================] - 0s 15ms/step\n",
      "1/1 [==============================] - 0s 18ms/step\n",
      "1/1 [==============================] - 0s 15ms/step\n",
      "1/1 [==============================] - 0s 15ms/step\n",
      "1/1 [==============================] - 0s 19ms/step\n",
      "1/1 [==============================] - 0s 14ms/step\n",
      "1/1 [==============================] - 0s 17ms/step\n",
      "1/1 [==============================] - 0s 15ms/step\n",
      "1/1 [==============================] - 0s 17ms/step\n",
      "1/1 [==============================] - 0s 16ms/step\n",
      "1/1 [==============================] - 0s 17ms/step\n",
      "1/1 [==============================] - 0s 16ms/step\n",
      "1/1 [==============================] - 0s 15ms/step\n",
      "1/1 [==============================] - 0s 17ms/step\n",
      "1/1 [==============================] - 0s 15ms/step\n",
      "1/1 [==============================] - 0s 14ms/step\n",
      "1/1 [==============================] - 0s 16ms/step\n",
      "1/1 [==============================] - 0s 15ms/step\n",
      "1/1 [==============================] - 0s 21ms/step\n",
      "1/1 [==============================] - 0s 15ms/step\n",
      "1/1 [==============================] - 0s 18ms/step\n",
      "1/1 [==============================] - 0s 15ms/step\n",
      "1/1 [==============================] - 0s 15ms/step\n",
      "1/1 [==============================] - 0s 14ms/step\n",
      "1/1 [==============================] - 0s 15ms/step\n",
      "1/1 [==============================] - 0s 15ms/step\n",
      "1/1 [==============================] - 0s 15ms/step\n",
      "1/1 [==============================] - 0s 20ms/step\n",
      "1/1 [==============================] - 0s 16ms/step\n",
      "1/1 [==============================] - 0s 15ms/step\n",
      "1/1 [==============================] - 0s 15ms/step\n",
      "1/1 [==============================] - 0s 15ms/step\n",
      "1/1 [==============================] - 0s 14ms/step\n",
      "1/1 [==============================] - 0s 15ms/step\n",
      "1/1 [==============================] - 0s 15ms/step\n",
      "1/1 [==============================] - 0s 15ms/step\n",
      "1/1 [==============================] - 0s 15ms/step\n",
      "1/1 [==============================] - 0s 15ms/step\n",
      "1/1 [==============================] - 0s 15ms/step\n",
      "1/1 [==============================] - 1s 1s/step\n",
      "1/1 [==============================] - 0s 19ms/step\n",
      "1/1 [==============================] - 0s 16ms/step\n",
      "1/1 [==============================] - 0s 15ms/step\n",
      "1/1 [==============================] - 0s 14ms/step\n",
      "1/1 [==============================] - 0s 18ms/step\n",
      "1/1 [==============================] - 0s 15ms/step\n",
      "1/1 [==============================] - 0s 15ms/step\n",
      "1/1 [==============================] - 0s 16ms/step\n",
      "1/1 [==============================] - 0s 14ms/step\n",
      "1/1 [==============================] - 0s 15ms/step\n",
      "1/1 [==============================] - 0s 15ms/step\n",
      "1/1 [==============================] - 0s 15ms/step\n",
      "1/1 [==============================] - 0s 15ms/step\n",
      "1/1 [==============================] - 0s 15ms/step\n",
      "1/1 [==============================] - 0s 15ms/step\n",
      "1/1 [==============================] - 0s 15ms/step\n",
      "1/1 [==============================] - 0s 15ms/step\n"
     ]
    },
    {
     "name": "stderr",
     "output_type": "stream",
     "text": [
      "Corrupt JPEG data: 214 extraneous bytes before marker 0xd9\n"
     ]
    },
    {
     "name": "stdout",
     "output_type": "stream",
     "text": [
      "1/1 [==============================] - 0s 14ms/step\n",
      "1/1 [==============================] - 0s 15ms/step\n",
      "1/1 [==============================] - 0s 17ms/step\n",
      "1/1 [==============================] - 0s 14ms/step\n",
      "1/1 [==============================] - 0s 15ms/step\n",
      "1/1 [==============================] - 0s 15ms/step\n",
      "1/1 [==============================] - 0s 15ms/step\n",
      "1/1 [==============================] - 0s 15ms/step\n",
      "1/1 [==============================] - 0s 15ms/step\n",
      "1/1 [==============================] - 0s 15ms/step\n",
      "1/1 [==============================] - 0s 15ms/step\n",
      "1/1 [==============================] - 0s 18ms/step\n",
      "1/1 [==============================] - 1s 1s/step\n",
      "1/1 [==============================] - 0s 15ms/step\n",
      "1/1 [==============================] - 0s 17ms/step\n",
      "1/1 [==============================] - 0s 15ms/step\n",
      "1/1 [==============================] - 0s 15ms/step\n",
      "1/1 [==============================] - 0s 15ms/step\n",
      "1/1 [==============================] - 0s 14ms/step\n",
      "1/1 [==============================] - 0s 14ms/step\n",
      "1/1 [==============================] - 0s 15ms/step\n",
      "1/1 [==============================] - 0s 15ms/step\n",
      "1/1 [==============================] - 0s 16ms/step\n",
      "1/1 [==============================] - 0s 15ms/step\n",
      "1/1 [==============================] - 0s 15ms/step\n",
      "1/1 [==============================] - 0s 15ms/step\n",
      "1/1 [==============================] - 0s 15ms/step\n",
      "1/1 [==============================] - 0s 15ms/step\n",
      "1/1 [==============================] - 0s 18ms/step\n",
      "1/1 [==============================] - 0s 15ms/step\n",
      "1/1 [==============================] - 0s 15ms/step\n",
      "1/1 [==============================] - 0s 15ms/step\n"
     ]
    },
    {
     "name": "stderr",
     "output_type": "stream",
     "text": [
      "Corrupt JPEG data: 128 extraneous bytes before marker 0xd9\n"
     ]
    },
    {
     "name": "stdout",
     "output_type": "stream",
     "text": [
      "1/1 [==============================] - 0s 15ms/step\n",
      "1/1 [==============================] - 0s 15ms/step\n",
      "1/1 [==============================] - 0s 15ms/step\n",
      "1/1 [==============================] - 0s 15ms/step\n",
      "1/1 [==============================] - 0s 15ms/step\n",
      "1/1 [==============================] - 0s 14ms/step\n",
      "1/1 [==============================] - 0s 14ms/step\n",
      "1/1 [==============================] - 0s 14ms/step\n",
      "1/1 [==============================] - 0s 18ms/step\n",
      "1/1 [==============================] - 0s 16ms/step\n",
      "1/1 [==============================] - 0s 15ms/step\n",
      "1/1 [==============================] - 0s 20ms/step\n",
      "1/1 [==============================] - 0s 21ms/step\n",
      "1/1 [==============================] - 0s 15ms/step\n",
      "1/1 [==============================] - 0s 20ms/step\n",
      "1/1 [==============================] - 0s 15ms/step\n",
      "1/1 [==============================] - 0s 15ms/step\n",
      "1/1 [==============================] - 0s 15ms/step\n",
      "1/1 [==============================] - 0s 16ms/step\n",
      "1/1 [==============================] - 0s 15ms/step\n",
      "1/1 [==============================] - 0s 14ms/step\n",
      "1/1 [==============================] - 0s 15ms/step\n",
      "1/1 [==============================] - 0s 15ms/step\n",
      "1/1 [==============================] - 0s 15ms/step\n",
      "1/1 [==============================] - 0s 16ms/step\n",
      "1/1 [==============================] - 0s 17ms/step\n",
      "1/1 [==============================] - 0s 17ms/step\n",
      "1/1 [==============================] - 0s 16ms/step\n",
      "1/1 [==============================] - 0s 17ms/step\n",
      "1/1 [==============================] - 0s 16ms/step\n",
      "1/1 [==============================] - 0s 15ms/step\n",
      "1/1 [==============================] - 0s 15ms/step\n",
      "1/1 [==============================] - 0s 15ms/step\n",
      "1/1 [==============================] - 0s 15ms/step\n",
      "1/1 [==============================] - 0s 15ms/step\n",
      "1/1 [==============================] - 0s 15ms/step\n",
      "1/1 [==============================] - 0s 16ms/step\n",
      "1/1 [==============================] - 0s 16ms/step\n",
      "1/1 [==============================] - 0s 14ms/step\n",
      "1/1 [==============================] - 1s 785ms/step\n"
     ]
    }
   ],
   "source": [
    "train_features, train_labels = get_features_and_labels(train_dataset)\n",
    "val_features, val_labels = get_features_and_labels(val_dataset)\n",
    "test_features, test_labels = get_features_and_labels(test_dataset)"
   ]
  },
  {
   "cell_type": "code",
   "execution_count": 9,
   "metadata": {},
   "outputs": [
    {
     "data": {
      "text/plain": [
       "(1875, 5, 5, 512)"
      ]
     },
     "execution_count": 9,
     "metadata": {},
     "output_type": "execute_result"
    }
   ],
   "source": [
    "# instead of 1875 images of shape 180x180x3, now we have 1875 images of shape 5x5 with 512 channels(filters)\n",
    "\n",
    "train_features.shape"
   ]
  },
  {
   "cell_type": "code",
   "execution_count": 10,
   "metadata": {},
   "outputs": [
    {
     "name": "stdout",
     "output_type": "stream",
     "text": [
      "Epoch 1/30\n"
     ]
    },
    {
     "name": "stderr",
     "output_type": "stream",
     "text": [
      "2022-08-10 00:34:34.383165: W tensorflow/core/framework/cpu_allocator_impl.cc:82] Allocation of 96000000 exceeds 10% of free system memory.\n",
      "2022-08-10 00:34:34.416039: W tensorflow/core/framework/cpu_allocator_impl.cc:82] Allocation of 96000000 exceeds 10% of free system memory.\n"
     ]
    },
    {
     "name": "stdout",
     "output_type": "stream",
     "text": [
      "48/59 [=======================>......] - ETA: 0s - loss: 18.4364 - accuracy: 0.9128"
     ]
    },
    {
     "name": "stderr",
     "output_type": "stream",
     "text": [
      "2022-08-10 00:34:35.099558: W tensorflow/core/framework/cpu_allocator_impl.cc:82] Allocation of 48179200 exceeds 10% of free system memory.\n",
      "2022-08-10 00:34:35.121336: W tensorflow/core/framework/cpu_allocator_impl.cc:82] Allocation of 48179200 exceeds 10% of free system memory.\n"
     ]
    },
    {
     "name": "stdout",
     "output_type": "stream",
     "text": [
      "59/59 [==============================] - 1s 7ms/step - loss: 16.5642 - accuracy: 0.9189 - val_loss: 6.0509 - val_accuracy: 0.9575\n",
      "Epoch 2/30\n",
      "59/59 [==============================] - 0s 5ms/step - loss: 2.8415 - accuracy: 0.9755 - val_loss: 4.6718 - val_accuracy: 0.9660\n",
      "Epoch 3/30\n",
      "59/59 [==============================] - 0s 5ms/step - loss: 3.4651 - accuracy: 0.9744 - val_loss: 4.1709 - val_accuracy: 0.9734\n",
      "Epoch 4/30\n",
      "59/59 [==============================] - 0s 4ms/step - loss: 0.8053 - accuracy: 0.9931 - val_loss: 8.7623 - val_accuracy: 0.9628\n",
      "Epoch 5/30\n",
      "59/59 [==============================] - 0s 4ms/step - loss: 1.4467 - accuracy: 0.9920 - val_loss: 5.9172 - val_accuracy: 0.9745\n",
      "Epoch 6/30\n",
      "59/59 [==============================] - 0s 4ms/step - loss: 0.7260 - accuracy: 0.9952 - val_loss: 7.0339 - val_accuracy: 0.9649\n",
      "Epoch 7/30\n",
      "59/59 [==============================] - 0s 4ms/step - loss: 0.3267 - accuracy: 0.9968 - val_loss: 6.7187 - val_accuracy: 0.9702\n",
      "Epoch 8/30\n",
      "59/59 [==============================] - 0s 4ms/step - loss: 0.7995 - accuracy: 0.9968 - val_loss: 5.4822 - val_accuracy: 0.9756\n",
      "Epoch 9/30\n",
      "59/59 [==============================] - 0s 4ms/step - loss: 0.5458 - accuracy: 0.9963 - val_loss: 5.9779 - val_accuracy: 0.9724\n",
      "Epoch 10/30\n",
      "59/59 [==============================] - 0s 4ms/step - loss: 0.2998 - accuracy: 0.9963 - val_loss: 9.2614 - val_accuracy: 0.9586\n",
      "Epoch 11/30\n",
      "59/59 [==============================] - 0s 4ms/step - loss: 0.1112 - accuracy: 0.9989 - val_loss: 6.7564 - val_accuracy: 0.9692\n",
      "Epoch 12/30\n",
      "59/59 [==============================] - 0s 4ms/step - loss: 0.1186 - accuracy: 0.9979 - val_loss: 5.5056 - val_accuracy: 0.9702\n",
      "Epoch 13/30\n",
      "59/59 [==============================] - 0s 4ms/step - loss: 0.1795 - accuracy: 0.9973 - val_loss: 8.3787 - val_accuracy: 0.9649\n",
      "Epoch 14/30\n",
      "59/59 [==============================] - 0s 4ms/step - loss: 0.2489 - accuracy: 0.9973 - val_loss: 5.7013 - val_accuracy: 0.9777\n",
      "Epoch 15/30\n",
      "59/59 [==============================] - 0s 4ms/step - loss: 0.6374 - accuracy: 0.9963 - val_loss: 6.4804 - val_accuracy: 0.9766\n",
      "Epoch 16/30\n",
      "59/59 [==============================] - 0s 4ms/step - loss: 0.0771 - accuracy: 0.9995 - val_loss: 5.7140 - val_accuracy: 0.9745\n",
      "Epoch 17/30\n",
      "59/59 [==============================] - 0s 4ms/step - loss: 1.7171e-14 - accuracy: 1.0000 - val_loss: 5.7140 - val_accuracy: 0.9745\n",
      "Epoch 18/30\n",
      "59/59 [==============================] - 0s 4ms/step - loss: 0.0668 - accuracy: 0.9995 - val_loss: 6.6476 - val_accuracy: 0.9756\n",
      "Epoch 19/30\n",
      "59/59 [==============================] - 0s 4ms/step - loss: 0.4023 - accuracy: 0.9973 - val_loss: 5.4536 - val_accuracy: 0.9756\n",
      "Epoch 20/30\n",
      "59/59 [==============================] - 0s 4ms/step - loss: 0.1176 - accuracy: 0.9984 - val_loss: 8.9826 - val_accuracy: 0.9681\n",
      "Epoch 21/30\n",
      "59/59 [==============================] - 0s 4ms/step - loss: 0.3768 - accuracy: 0.9989 - val_loss: 5.7361 - val_accuracy: 0.9724\n",
      "Epoch 22/30\n",
      "59/59 [==============================] - 0s 4ms/step - loss: 0.0497 - accuracy: 0.9989 - val_loss: 4.8725 - val_accuracy: 0.9787\n",
      "Epoch 23/30\n",
      "59/59 [==============================] - 0s 4ms/step - loss: 1.0393e-23 - accuracy: 1.0000 - val_loss: 4.8725 - val_accuracy: 0.9787\n",
      "Epoch 24/30\n",
      "59/59 [==============================] - 0s 4ms/step - loss: 0.0188 - accuracy: 0.9995 - val_loss: 5.7366 - val_accuracy: 0.9713\n",
      "Epoch 25/30\n",
      "59/59 [==============================] - 0s 4ms/step - loss: 0.1809 - accuracy: 0.9984 - val_loss: 8.4801 - val_accuracy: 0.9692\n",
      "Epoch 26/30\n",
      "59/59 [==============================] - 0s 4ms/step - loss: 0.1169 - accuracy: 0.9984 - val_loss: 6.4079 - val_accuracy: 0.9734\n",
      "Epoch 27/30\n",
      "59/59 [==============================] - 0s 4ms/step - loss: 0.2377 - accuracy: 0.9989 - val_loss: 6.2865 - val_accuracy: 0.9756\n",
      "Epoch 28/30\n",
      "59/59 [==============================] - 0s 4ms/step - loss: 2.4201e-24 - accuracy: 1.0000 - val_loss: 6.2865 - val_accuracy: 0.9756\n",
      "Epoch 29/30\n",
      "59/59 [==============================] - 0s 4ms/step - loss: 0.0747 - accuracy: 0.9989 - val_loss: 5.6962 - val_accuracy: 0.9766\n",
      "Epoch 30/30\n",
      "59/59 [==============================] - 0s 4ms/step - loss: 4.3839e-22 - accuracy: 1.0000 - val_loss: 5.6962 - val_accuracy: 0.9766\n"
     ]
    }
   ],
   "source": [
    "inputs = keras.Input(shape=(5,5,512))\n",
    "x = layers.Flatten()(inputs)\n",
    "x = layers.Dense(256)(x)\n",
    "x = layers.Dropout(0.5)(x)\n",
    "outputs = layers.Dense(1, activation=\"sigmoid\")(x)\n",
    "\n",
    "model = keras.Model(inputs, outputs)\n",
    "\n",
    "model.compile(loss=\"binary_crossentropy\",\n",
    "              optimizer=\"rmsprop\",\n",
    "              metrics=[\"accuracy\"])\n",
    "\n",
    "callbacks = [\n",
    "    keras.callbacks.ModelCheckpoint(\n",
    "        filepath=\"checkpoints/ch08-convnets-from-scratch/feature-extraction.keras\",\n",
    "        save_best_only = True,\n",
    "        monitor=\"val_loss\"\n",
    "    )\n",
    "]\n",
    "\n",
    "history = model.fit(\n",
    "    train_features, train_labels,\n",
    "    epochs=30,\n",
    "    validation_data=(val_features, val_labels),\n",
    "    callbacks=callbacks\n",
    ")"
   ]
  },
  {
   "cell_type": "code",
   "execution_count": 11,
   "metadata": {},
   "outputs": [
    {
     "data": {
      "text/plain": [
       "<Figure size 432x288 with 0 Axes>"
      ]
     },
     "execution_count": 11,
     "metadata": {},
     "output_type": "execute_result"
    },
    {
     "data": {
      "image/png": "[encoded data removed]",
      "text/plain": [
       "<Figure size 432x288 with 1 Axes>"
      ]
     },
     "metadata": {
      "needs_background": "light"
     },
     "output_type": "display_data"
    },
    {
     "data": {
      "image/png": "[encoded data removed]",
      "text/plain": [
       "<Figure size 432x288 with 1 Axes>"
      ]
     },
     "metadata": {
      "needs_background": "light"
     },
     "output_type": "display_data"
    },
    {
     "data": {
      "text/plain": [
       "<Figure size 432x288 with 0 Axes>"
      ]
     },
     "metadata": {},
     "output_type": "display_data"
    }
   ],
   "source": [
    "accuracy = history.history[\"accuracy\"]\n",
    "val_accuracy = history.history[\"val_accuracy\"]\n",
    "loss = history.history[\"loss\"]\n",
    "val_loss = history.history[\"val_loss\"]\n",
    "epochs = range(1, len(accuracy)+1)\n",
    "\n",
    "plt.plot(epochs, accuracy, \"bo\", label=\"Training Accuray\")\n",
    "plt.plot(epochs, val_accuracy, \"b\", label=\"Validation Accuray\")\n",
    "plt.title(\"Training & Validation Accuracy\")\n",
    "plt.legend()\n",
    "plt.figure()\n",
    "\n",
    "plt.plot(epochs, loss, \"bo\", label=\"Training Loss\")\n",
    "plt.plot(epochs, val_loss, \"b\", label=\"Validation Loss\")\n",
    "plt.title(\"Training & Validation Loss\")\n",
    "plt.legend()\n",
    "plt.figure()"
   ]
  },
  {
   "cell_type": "markdown",
   "metadata": {},
   "source": [
    "**FEATURE EXTRACTION WITH DATA AUGMENTATION**"
   ]
  },
  {
   "cell_type": "code",
   "execution_count": 12,
   "metadata": {},
   "outputs": [],
   "source": [
    "conv_base = keras.applications.vgg16.VGG16(\n",
    "    weights=\"imagenet\",\n",
    "    include_top=False\n",
    ")\n",
    "conv_base.trainable = False"
   ]
  },
  {
   "cell_type": "code",
   "execution_count": 13,
   "metadata": {},
   "outputs": [
    {
     "name": "stdout",
     "output_type": "stream",
     "text": [
      "Epoch 1/10\n",
      "59/59 [==============================] - ETA: 0s - loss: 19.3451 - accuracy: 0.8912"
     ]
    },
    {
     "name": "stderr",
     "output_type": "stream",
     "text": [
      "Corrupt JPEG data: 214 extraneous bytes before marker 0xd9\n"
     ]
    },
    {
     "name": "stdout",
     "output_type": "stream",
     "text": [
      "59/59 [==============================] - 11s 178ms/step - loss: 19.3451 - accuracy: 0.8912 - val_loss: 4.2514 - val_accuracy: 0.9734\n",
      "Epoch 2/10\n",
      "59/59 [==============================] - ETA: 0s - loss: 8.4114 - accuracy: 0.9360"
     ]
    },
    {
     "name": "stderr",
     "output_type": "stream",
     "text": [
      "Corrupt JPEG data: 214 extraneous bytes before marker 0xd9\n"
     ]
    },
    {
     "name": "stdout",
     "output_type": "stream",
     "text": [
      "59/59 [==============================] - 10s 177ms/step - loss: 8.4114 - accuracy: 0.9360 - val_loss: 8.3646 - val_accuracy: 0.9511\n",
      "Epoch 3/10\n",
      "59/59 [==============================] - ETA: 0s - loss: 7.4503 - accuracy: 0.9419"
     ]
    },
    {
     "name": "stderr",
     "output_type": "stream",
     "text": [
      "Corrupt JPEG data: 214 extraneous bytes before marker 0xd9\n"
     ]
    },
    {
     "name": "stdout",
     "output_type": "stream",
     "text": [
      "59/59 [==============================] - 11s 178ms/step - loss: 7.4503 - accuracy: 0.9419 - val_loss: 4.9480 - val_accuracy: 0.9692\n",
      "Epoch 4/10\n",
      "59/59 [==============================] - ETA: 0s - loss: 4.6284 - accuracy: 0.9557"
     ]
    },
    {
     "name": "stderr",
     "output_type": "stream",
     "text": [
      "Corrupt JPEG data: 214 extraneous bytes before marker 0xd9\n"
     ]
    },
    {
     "name": "stdout",
     "output_type": "stream",
     "text": [
      "59/59 [==============================] - 11s 178ms/step - loss: 4.6284 - accuracy: 0.9557 - val_loss: 8.1220 - val_accuracy: 0.9617\n",
      "Epoch 5/10\n",
      "59/59 [==============================] - ETA: 0s - loss: 4.6586 - accuracy: 0.9616"
     ]
    },
    {
     "name": "stderr",
     "output_type": "stream",
     "text": [
      "Corrupt JPEG data: 214 extraneous bytes before marker 0xd9\n"
     ]
    },
    {
     "name": "stdout",
     "output_type": "stream",
     "text": [
      "59/59 [==============================] - 11s 179ms/step - loss: 4.6586 - accuracy: 0.9616 - val_loss: 12.8411 - val_accuracy: 0.9426\n",
      "Epoch 6/10\n",
      "59/59 [==============================] - ETA: 0s - loss: 4.2499 - accuracy: 0.9691"
     ]
    },
    {
     "name": "stderr",
     "output_type": "stream",
     "text": [
      "Corrupt JPEG data: 214 extraneous bytes before marker 0xd9\n"
     ]
    },
    {
     "name": "stdout",
     "output_type": "stream",
     "text": [
      "59/59 [==============================] - 11s 179ms/step - loss: 4.2499 - accuracy: 0.9691 - val_loss: 6.4004 - val_accuracy: 0.9671\n",
      "Epoch 7/10\n",
      "59/59 [==============================] - ETA: 0s - loss: 3.5030 - accuracy: 0.9648"
     ]
    },
    {
     "name": "stderr",
     "output_type": "stream",
     "text": [
      "Corrupt JPEG data: 214 extraneous bytes before marker 0xd9\n"
     ]
    },
    {
     "name": "stdout",
     "output_type": "stream",
     "text": [
      "59/59 [==============================] - 11s 180ms/step - loss: 3.5030 - accuracy: 0.9648 - val_loss: 6.8839 - val_accuracy: 0.9639\n",
      "Epoch 8/10\n",
      "59/59 [==============================] - ETA: 0s - loss: 2.6163 - accuracy: 0.9760"
     ]
    },
    {
     "name": "stderr",
     "output_type": "stream",
     "text": [
      "Corrupt JPEG data: 214 extraneous bytes before marker 0xd9\n"
     ]
    },
    {
     "name": "stdout",
     "output_type": "stream",
     "text": [
      "59/59 [==============================] - 11s 179ms/step - loss: 2.6163 - accuracy: 0.9760 - val_loss: 4.9530 - val_accuracy: 0.9660\n",
      "Epoch 9/10\n",
      "59/59 [==============================] - ETA: 0s - loss: 2.6051 - accuracy: 0.9739"
     ]
    },
    {
     "name": "stderr",
     "output_type": "stream",
     "text": [
      "Corrupt JPEG data: 214 extraneous bytes before marker 0xd9\n"
     ]
    },
    {
     "name": "stdout",
     "output_type": "stream",
     "text": [
      "59/59 [==============================] - 11s 182ms/step - loss: 2.6051 - accuracy: 0.9739 - val_loss: 2.6197 - val_accuracy: 0.9787\n",
      "Epoch 10/10\n",
      "59/59 [==============================] - ETA: 0s - loss: 3.1341 - accuracy: 0.9717"
     ]
    },
    {
     "name": "stderr",
     "output_type": "stream",
     "text": [
      "Corrupt JPEG data: 214 extraneous bytes before marker 0xd9\n"
     ]
    },
    {
     "name": "stdout",
     "output_type": "stream",
     "text": [
      "59/59 [==============================] - 11s 179ms/step - loss: 3.1341 - accuracy: 0.9717 - val_loss: 2.6656 - val_accuracy: 0.9798\n",
      "19/59 [========>.....................] - ETA: 3s - loss: 4.3762 - accuracy: 0.9671"
     ]
    },
    {
     "name": "stderr",
     "output_type": "stream",
     "text": [
      "Corrupt JPEG data: 128 extraneous bytes before marker 0xd9\n"
     ]
    },
    {
     "name": "stdout",
     "output_type": "stream",
     "text": [
      "59/59 [==============================] - 6s 96ms/step - loss: 4.2586 - accuracy: 0.9683\n",
      "test accuracy: 0.968\n"
     ]
    },
    {
     "data": {
      "image/png": "[encoded data removed]",
      "text/plain": [
       "<Figure size 432x288 with 1 Axes>"
      ]
     },
     "metadata": {
      "needs_background": "light"
     },
     "output_type": "display_data"
    },
    {
     "data": {
      "image/png": "[encoded data removed]",
      "text/plain": [
       "<Figure size 432x288 with 1 Axes>"
      ]
     },
     "metadata": {
      "needs_background": "light"
     },
     "output_type": "display_data"
    },
    {
     "data": {
      "text/plain": [
       "<Figure size 432x288 with 0 Axes>"
      ]
     },
     "metadata": {},
     "output_type": "display_data"
    }
   ],
   "source": [
    "data_aug = keras.Sequential(\n",
    "    [\n",
    "        layers.RandomFlip(\"horizontal\"),\n",
    "        layers.RandomRotation(0.1),\n",
    "        layers.RandomZoom(0.2)\n",
    "    ]\n",
    ")\n",
    "\n",
    "inputs = keras.Input(shape=(180,180,3))\n",
    "x = data_aug(inputs)\n",
    "x = keras.applications.vgg16.preprocess_input(x)\n",
    "x = conv_base(x)\n",
    "x = layers.Flatten()(x)\n",
    "x = layers.Dense(256)(x)\n",
    "x = layers.Dropout(0.5)(x)\n",
    "outputs = layers.Dense(1, activation=\"sigmoid\")(x)\n",
    "\n",
    "model = keras.Model(inputs, outputs)\n",
    "\n",
    "model.compile(loss=\"binary_crossentropy\",\n",
    "              optimizer=\"rmsprop\",\n",
    "              metrics=[\"accuracy\"])\n",
    "\n",
    "callbacks = [\n",
    "    keras.callbacks.ModelCheckpoint(\n",
    "        filepath=\"checkpoints/ch08-convnets-from-scratch/feature_extraction_with_data_augmentation.keras\",\n",
    "        save_best_only = True,\n",
    "        monitor=\"val_loss\"\n",
    "    )\n",
    "]\n",
    "\n",
    "history = model.fit(\n",
    "    train_dataset,\n",
    "    epochs=10,\n",
    "    validation_data=val_dataset,\n",
    "    callbacks=callbacks\n",
    ")\n",
    "\n",
    "accuracy = history.history[\"accuracy\"]\n",
    "val_accuracy = history.history[\"val_accuracy\"]\n",
    "loss = history.history[\"loss\"]\n",
    "val_loss = history.history[\"val_loss\"]\n",
    "epochs = range(1, len(accuracy)+1)\n",
    "\n",
    "plt.plot(epochs, accuracy, \"bo\", label=\"Training Accuray\")\n",
    "plt.plot(epochs, val_accuracy, \"b\", label=\"Validation Accuray\")\n",
    "plt.title(\"Training & Validation Accuracy\")\n",
    "plt.legend()\n",
    "plt.figure()\n",
    "\n",
    "plt.plot(epochs, loss, \"bo\", label=\"Training Loss\")\n",
    "plt.plot(epochs, val_loss, \"b\", label=\"Validation Loss\")\n",
    "plt.title(\"Training & Validation Loss\")\n",
    "plt.legend()\n",
    "plt.figure()\n",
    "\n",
    "test_model = keras.models.load_model(\"checkpoints/ch08-convnets-from-scratch/feature_extraction_with_data_augmentation.keras\")\n",
    "test_loss, test_acc = test_model.evaluate(test_dataset)\n",
    "print(f\"test accuracy: {test_acc:.3f}\")"
   ]
  },
  {
   "cell_type": "code",
   "execution_count": 14,
   "metadata": {},
   "outputs": [
    {
     "name": "stdout",
     "output_type": "stream",
     "text": [
      "Model: \"vgg16\"\n",
      "_________________________________________________________________\n",
      " Layer (type)                Output Shape              Param #   \n",
      "=================================================================\n",
      " input_3 (InputLayer)        [(None, None, None, 3)]   0         \n",
      "                                                                 \n",
      " block1_conv1 (Conv2D)       (None, None, None, 64)    1792      \n",
      "                                                                 \n",
      " block1_conv2 (Conv2D)       (None, None, None, 64)    36928     \n",
      "                                                                 \n",
      " block1_pool (MaxPooling2D)  (None, None, None, 64)    0         \n",
      "                                                                 \n",
      " block2_conv1 (Conv2D)       (None, None, None, 128)   73856     \n",
      "                                                                 \n",
      " block2_conv2 (Conv2D)       (None, None, None, 128)   147584    \n",
      "                                                                 \n",
      " block2_pool (MaxPooling2D)  (None, None, None, 128)   0         \n",
      "                                                                 \n",
      " block3_conv1 (Conv2D)       (None, None, None, 256)   295168    \n",
      "                                                                 \n",
      " block3_conv2 (Conv2D)       (None, None, None, 256)   590080    \n",
      "                                                                 \n",
      " block3_conv3 (Conv2D)       (None, None, None, 256)   590080    \n",
      "                                                                 \n",
      " block3_pool (MaxPooling2D)  (None, None, None, 256)   0         \n",
      "                                                                 \n",
      " block4_conv1 (Conv2D)       (None, None, None, 512)   1180160   \n",
      "                                                                 \n",
      " block4_conv2 (Conv2D)       (None, None, None, 512)   2359808   \n",
      "                                                                 \n",
      " block4_conv3 (Conv2D)       (None, None, None, 512)   2359808   \n",
      "                                                                 \n",
      " block4_pool (MaxPooling2D)  (None, None, None, 512)   0         \n",
      "                                                                 \n",
      " block5_conv1 (Conv2D)       (None, None, None, 512)   2359808   \n",
      "                                                                 \n",
      " block5_conv2 (Conv2D)       (None, None, None, 512)   2359808   \n",
      "                                                                 \n",
      " block5_conv3 (Conv2D)       (None, None, None, 512)   2359808   \n",
      "                                                                 \n",
      " block5_pool (MaxPooling2D)  (None, None, None, 512)   0         \n",
      "                                                                 \n",
      "=================================================================\n",
      "Total params: 14,714,688\n",
      "Trainable params: 0\n",
      "Non-trainable params: 14,714,688\n",
      "_________________________________________________________________\n"
     ]
    }
   ],
   "source": [
    "conv_base.summary()"
   ]
  },
  {
   "cell_type": "markdown",
   "metadata": {},
   "source": [
    "**FINE-TUNING A PRTRAINED MODEL**"
   ]
  },
  {
   "cell_type": "code",
   "execution_count": 18,
   "metadata": {},
   "outputs": [
    {
     "data": {
      "text/plain": [
       "[<keras.engine.input_layer.InputLayer at 0x7fab4017b5b0>,\n",
       " <keras.layers.convolutional.conv2d.Conv2D at 0x7fab40090f10>,\n",
       " <keras.layers.convolutional.conv2d.Conv2D at 0x7fab40090b20>,\n",
       " <keras.layers.pooling.max_pooling2d.MaxPooling2D at 0x7fab40095e80>,\n",
       " <keras.layers.convolutional.conv2d.Conv2D at 0x7fab40090cd0>,\n",
       " <keras.layers.convolutional.conv2d.Conv2D at 0x7fab400b5d00>,\n",
       " <keras.layers.pooling.max_pooling2d.MaxPooling2D at 0x7fab400b3730>,\n",
       " <keras.layers.convolutional.conv2d.Conv2D at 0x7fab400b5d60>,\n",
       " <keras.layers.convolutional.conv2d.Conv2D at 0x7fab400b2580>,\n",
       " <keras.layers.convolutional.conv2d.Conv2D at 0x7fab400b2eb0>,\n",
       " <keras.layers.pooling.max_pooling2d.MaxPooling2D at 0x7fab40045f10>,\n",
       " <keras.layers.convolutional.conv2d.Conv2D at 0x7fab400b2be0>,\n",
       " <keras.layers.convolutional.conv2d.Conv2D at 0x7fab40095a00>,\n",
       " <keras.layers.convolutional.conv2d.Conv2D at 0x7fab40095970>,\n",
       " <keras.layers.pooling.max_pooling2d.MaxPooling2D at 0x7fab4005b4c0>]"
      ]
     },
     "execution_count": 18,
     "metadata": {},
     "output_type": "execute_result"
    }
   ],
   "source": [
    "conv_base.layers[:-4]"
   ]
  },
  {
   "cell_type": "code",
   "execution_count": 19,
   "metadata": {},
   "outputs": [],
   "source": [
    "conv_base.trainable = True\n",
    "for layer in conv_base.layers[:-4]:\n",
    "    layer.trainable = False"
   ]
  },
  {
   "cell_type": "code",
   "execution_count": 20,
   "metadata": {},
   "outputs": [
    {
     "name": "stdout",
     "output_type": "stream",
     "text": [
      "Epoch 1/30\n",
      "59/59 [==============================] - ETA: 0s - loss: 1.5664 - accuracy: 0.9797"
     ]
    },
    {
     "name": "stderr",
     "output_type": "stream",
     "text": [
      "Corrupt JPEG data: 214 extraneous bytes before marker 0xd9\n"
     ]
    },
    {
     "name": "stdout",
     "output_type": "stream",
     "text": [
      "59/59 [==============================] - 12s 185ms/step - loss: 1.5664 - accuracy: 0.9797 - val_loss: 2.0648 - val_accuracy: 0.9798\n",
      "Epoch 2/30\n",
      "59/59 [==============================] - ETA: 0s - loss: 1.1573 - accuracy: 0.9813"
     ]
    },
    {
     "name": "stderr",
     "output_type": "stream",
     "text": [
      "Corrupt JPEG data: 214 extraneous bytes before marker 0xd9\n"
     ]
    },
    {
     "name": "stdout",
     "output_type": "stream",
     "text": [
      "59/59 [==============================] - 11s 181ms/step - loss: 1.1573 - accuracy: 0.9813 - val_loss: 2.0664 - val_accuracy: 0.9819\n",
      "Epoch 3/30\n",
      "59/59 [==============================] - ETA: 0s - loss: 0.9373 - accuracy: 0.9824"
     ]
    },
    {
     "name": "stderr",
     "output_type": "stream",
     "text": [
      "Corrupt JPEG data: 214 extraneous bytes before marker 0xd9\n"
     ]
    },
    {
     "name": "stdout",
     "output_type": "stream",
     "text": [
      "59/59 [==============================] - 11s 186ms/step - loss: 0.9373 - accuracy: 0.9824 - val_loss: 1.8149 - val_accuracy: 0.9798\n",
      "Epoch 4/30\n",
      "59/59 [==============================] - ETA: 0s - loss: 0.9262 - accuracy: 0.9867"
     ]
    },
    {
     "name": "stderr",
     "output_type": "stream",
     "text": [
      "Corrupt JPEG data: 214 extraneous bytes before marker 0xd9\n"
     ]
    },
    {
     "name": "stdout",
     "output_type": "stream",
     "text": [
      "59/59 [==============================] - 11s 188ms/step - loss: 0.9262 - accuracy: 0.9867 - val_loss: 1.4501 - val_accuracy: 0.9819\n",
      "Epoch 5/30\n",
      "59/59 [==============================] - ETA: 0s - loss: 1.0507 - accuracy: 0.9819"
     ]
    },
    {
     "name": "stderr",
     "output_type": "stream",
     "text": [
      "Corrupt JPEG data: 214 extraneous bytes before marker 0xd9\n"
     ]
    },
    {
     "name": "stdout",
     "output_type": "stream",
     "text": [
      "59/59 [==============================] - 11s 188ms/step - loss: 1.0507 - accuracy: 0.9819 - val_loss: 1.3441 - val_accuracy: 0.9830\n",
      "Epoch 6/30\n",
      "59/59 [==============================] - ETA: 0s - loss: 0.6588 - accuracy: 0.9867"
     ]
    },
    {
     "name": "stderr",
     "output_type": "stream",
     "text": [
      "Corrupt JPEG data: 214 extraneous bytes before marker 0xd9\n"
     ]
    },
    {
     "name": "stdout",
     "output_type": "stream",
     "text": [
      "59/59 [==============================] - 11s 184ms/step - loss: 0.6588 - accuracy: 0.9867 - val_loss: 1.5929 - val_accuracy: 0.9830\n",
      "Epoch 7/30\n",
      "59/59 [==============================] - ETA: 0s - loss: 0.4861 - accuracy: 0.9867"
     ]
    },
    {
     "name": "stderr",
     "output_type": "stream",
     "text": [
      "Corrupt JPEG data: 214 extraneous bytes before marker 0xd9\n"
     ]
    },
    {
     "name": "stdout",
     "output_type": "stream",
     "text": [
      "59/59 [==============================] - 11s 185ms/step - loss: 0.4861 - accuracy: 0.9867 - val_loss: 1.4617 - val_accuracy: 0.9819\n",
      "Epoch 8/30\n",
      "59/59 [==============================] - ETA: 0s - loss: 0.7933 - accuracy: 0.9883"
     ]
    },
    {
     "name": "stderr",
     "output_type": "stream",
     "text": [
      "Corrupt JPEG data: 214 extraneous bytes before marker 0xd9\n"
     ]
    },
    {
     "name": "stdout",
     "output_type": "stream",
     "text": [
      "59/59 [==============================] - 11s 187ms/step - loss: 0.7933 - accuracy: 0.9883 - val_loss: 2.9135 - val_accuracy: 0.9734\n",
      "Epoch 9/30\n",
      "59/59 [==============================] - ETA: 0s - loss: 0.4934 - accuracy: 0.9893"
     ]
    },
    {
     "name": "stderr",
     "output_type": "stream",
     "text": [
      "Corrupt JPEG data: 214 extraneous bytes before marker 0xd9\n"
     ]
    },
    {
     "name": "stdout",
     "output_type": "stream",
     "text": [
      "59/59 [==============================] - 11s 187ms/step - loss: 0.4934 - accuracy: 0.9893 - val_loss: 1.6024 - val_accuracy: 0.9819\n",
      "Epoch 10/30\n",
      "59/59 [==============================] - ETA: 0s - loss: 0.2595 - accuracy: 0.9899"
     ]
    },
    {
     "name": "stderr",
     "output_type": "stream",
     "text": [
      "Corrupt JPEG data: 214 extraneous bytes before marker 0xd9\n"
     ]
    },
    {
     "name": "stdout",
     "output_type": "stream",
     "text": [
      "59/59 [==============================] - 11s 188ms/step - loss: 0.2595 - accuracy: 0.9899 - val_loss: 1.9757 - val_accuracy: 0.9819\n",
      "Epoch 11/30\n",
      "59/59 [==============================] - ETA: 0s - loss: 0.3035 - accuracy: 0.9931"
     ]
    },
    {
     "name": "stderr",
     "output_type": "stream",
     "text": [
      "Corrupt JPEG data: 214 extraneous bytes before marker 0xd9\n"
     ]
    },
    {
     "name": "stdout",
     "output_type": "stream",
     "text": [
      "59/59 [==============================] - 11s 188ms/step - loss: 0.3035 - accuracy: 0.9931 - val_loss: 1.4661 - val_accuracy: 0.9851\n",
      "Epoch 12/30\n",
      "59/59 [==============================] - ETA: 0s - loss: 0.5485 - accuracy: 0.9883"
     ]
    },
    {
     "name": "stderr",
     "output_type": "stream",
     "text": [
      "Corrupt JPEG data: 214 extraneous bytes before marker 0xd9\n"
     ]
    },
    {
     "name": "stdout",
     "output_type": "stream",
     "text": [
      "59/59 [==============================] - 11s 189ms/step - loss: 0.5485 - accuracy: 0.9883 - val_loss: 1.5433 - val_accuracy: 0.9787\n",
      "Epoch 13/30\n",
      "59/59 [==============================] - ETA: 0s - loss: 0.3001 - accuracy: 0.9888"
     ]
    },
    {
     "name": "stderr",
     "output_type": "stream",
     "text": [
      "Corrupt JPEG data: 214 extraneous bytes before marker 0xd9\n"
     ]
    },
    {
     "name": "stdout",
     "output_type": "stream",
     "text": [
      "59/59 [==============================] - 11s 188ms/step - loss: 0.3001 - accuracy: 0.9888 - val_loss: 1.5894 - val_accuracy: 0.9809\n",
      "Epoch 14/30\n",
      "59/59 [==============================] - ETA: 0s - loss: 0.3783 - accuracy: 0.9909"
     ]
    },
    {
     "name": "stderr",
     "output_type": "stream",
     "text": [
      "Corrupt JPEG data: 214 extraneous bytes before marker 0xd9\n"
     ]
    },
    {
     "name": "stdout",
     "output_type": "stream",
     "text": [
      "59/59 [==============================] - 11s 192ms/step - loss: 0.3783 - accuracy: 0.9909 - val_loss: 1.3270 - val_accuracy: 0.9798\n",
      "Epoch 15/30\n",
      "59/59 [==============================] - ETA: 0s - loss: 0.3851 - accuracy: 0.9915"
     ]
    },
    {
     "name": "stderr",
     "output_type": "stream",
     "text": [
      "Corrupt JPEG data: 214 extraneous bytes before marker 0xd9\n"
     ]
    },
    {
     "name": "stdout",
     "output_type": "stream",
     "text": [
      "59/59 [==============================] - 11s 192ms/step - loss: 0.3851 - accuracy: 0.9915 - val_loss: 1.2062 - val_accuracy: 0.9819\n",
      "Epoch 16/30\n",
      "59/59 [==============================] - ETA: 0s - loss: 0.2172 - accuracy: 0.9925"
     ]
    },
    {
     "name": "stderr",
     "output_type": "stream",
     "text": [
      "Corrupt JPEG data: 214 extraneous bytes before marker 0xd9\n"
     ]
    },
    {
     "name": "stdout",
     "output_type": "stream",
     "text": [
      "59/59 [==============================] - 11s 190ms/step - loss: 0.2172 - accuracy: 0.9925 - val_loss: 1.4581 - val_accuracy: 0.9830\n",
      "Epoch 17/30\n",
      "59/59 [==============================] - ETA: 0s - loss: 0.2578 - accuracy: 0.9909"
     ]
    },
    {
     "name": "stderr",
     "output_type": "stream",
     "text": [
      "Corrupt JPEG data: 214 extraneous bytes before marker 0xd9\n"
     ]
    },
    {
     "name": "stdout",
     "output_type": "stream",
     "text": [
      "59/59 [==============================] - 11s 191ms/step - loss: 0.2578 - accuracy: 0.9909 - val_loss: 1.6066 - val_accuracy: 0.9777\n",
      "Epoch 18/30\n",
      "59/59 [==============================] - ETA: 0s - loss: 0.1568 - accuracy: 0.9952"
     ]
    },
    {
     "name": "stderr",
     "output_type": "stream",
     "text": [
      "Corrupt JPEG data: 214 extraneous bytes before marker 0xd9\n"
     ]
    },
    {
     "name": "stdout",
     "output_type": "stream",
     "text": [
      "59/59 [==============================] - 11s 189ms/step - loss: 0.1568 - accuracy: 0.9952 - val_loss: 1.7443 - val_accuracy: 0.9819\n",
      "Epoch 19/30\n",
      "59/59 [==============================] - ETA: 0s - loss: 0.1796 - accuracy: 0.9952"
     ]
    },
    {
     "name": "stderr",
     "output_type": "stream",
     "text": [
      "Corrupt JPEG data: 214 extraneous bytes before marker 0xd9\n"
     ]
    },
    {
     "name": "stdout",
     "output_type": "stream",
     "text": [
      "59/59 [==============================] - 11s 191ms/step - loss: 0.1796 - accuracy: 0.9952 - val_loss: 1.6559 - val_accuracy: 0.9809\n",
      "Epoch 20/30\n",
      "59/59 [==============================] - ETA: 0s - loss: 0.1177 - accuracy: 0.9968"
     ]
    },
    {
     "name": "stderr",
     "output_type": "stream",
     "text": [
      "Corrupt JPEG data: 214 extraneous bytes before marker 0xd9\n"
     ]
    },
    {
     "name": "stdout",
     "output_type": "stream",
     "text": [
      "59/59 [==============================] - 11s 191ms/step - loss: 0.1177 - accuracy: 0.9968 - val_loss: 1.3286 - val_accuracy: 0.9819\n",
      "Epoch 21/30\n",
      "59/59 [==============================] - ETA: 0s - loss: 0.1236 - accuracy: 0.9941"
     ]
    },
    {
     "name": "stderr",
     "output_type": "stream",
     "text": [
      "Corrupt JPEG data: 214 extraneous bytes before marker 0xd9\n"
     ]
    },
    {
     "name": "stdout",
     "output_type": "stream",
     "text": [
      "59/59 [==============================] - 11s 191ms/step - loss: 0.1236 - accuracy: 0.9941 - val_loss: 1.5307 - val_accuracy: 0.9777\n",
      "Epoch 22/30\n",
      "59/59 [==============================] - ETA: 0s - loss: 0.2528 - accuracy: 0.9957"
     ]
    },
    {
     "name": "stderr",
     "output_type": "stream",
     "text": [
      "Corrupt JPEG data: 214 extraneous bytes before marker 0xd9\n"
     ]
    },
    {
     "name": "stdout",
     "output_type": "stream",
     "text": [
      "59/59 [==============================] - 11s 191ms/step - loss: 0.2528 - accuracy: 0.9957 - val_loss: 1.5140 - val_accuracy: 0.9798\n",
      "Epoch 23/30\n",
      "59/59 [==============================] - ETA: 0s - loss: 0.2526 - accuracy: 0.9925"
     ]
    },
    {
     "name": "stderr",
     "output_type": "stream",
     "text": [
      "Corrupt JPEG data: 214 extraneous bytes before marker 0xd9\n"
     ]
    },
    {
     "name": "stdout",
     "output_type": "stream",
     "text": [
      "59/59 [==============================] - 11s 192ms/step - loss: 0.2526 - accuracy: 0.9925 - val_loss: 1.6642 - val_accuracy: 0.9756\n",
      "Epoch 24/30\n",
      "59/59 [==============================] - ETA: 0s - loss: 0.2113 - accuracy: 0.9925"
     ]
    },
    {
     "name": "stderr",
     "output_type": "stream",
     "text": [
      "Corrupt JPEG data: 214 extraneous bytes before marker 0xd9\n"
     ]
    },
    {
     "name": "stdout",
     "output_type": "stream",
     "text": [
      "59/59 [==============================] - 11s 191ms/step - loss: 0.2113 - accuracy: 0.9925 - val_loss: 1.8760 - val_accuracy: 0.9787\n",
      "Epoch 25/30\n",
      "59/59 [==============================] - ETA: 0s - loss: 0.0372 - accuracy: 0.9973"
     ]
    },
    {
     "name": "stderr",
     "output_type": "stream",
     "text": [
      "Corrupt JPEG data: 214 extraneous bytes before marker 0xd9\n"
     ]
    },
    {
     "name": "stdout",
     "output_type": "stream",
     "text": [
      "59/59 [==============================] - 11s 191ms/step - loss: 0.0372 - accuracy: 0.9973 - val_loss: 1.5475 - val_accuracy: 0.9756\n",
      "Epoch 26/30\n",
      "59/59 [==============================] - ETA: 0s - loss: 0.1620 - accuracy: 0.9931"
     ]
    },
    {
     "name": "stderr",
     "output_type": "stream",
     "text": [
      "Corrupt JPEG data: 214 extraneous bytes before marker 0xd9\n"
     ]
    },
    {
     "name": "stdout",
     "output_type": "stream",
     "text": [
      "59/59 [==============================] - 11s 194ms/step - loss: 0.1620 - accuracy: 0.9931 - val_loss: 1.7845 - val_accuracy: 0.9756\n",
      "Epoch 27/30\n",
      "59/59 [==============================] - ETA: 0s - loss: 0.1768 - accuracy: 0.9936"
     ]
    },
    {
     "name": "stderr",
     "output_type": "stream",
     "text": [
      "Corrupt JPEG data: 214 extraneous bytes before marker 0xd9\n"
     ]
    },
    {
     "name": "stdout",
     "output_type": "stream",
     "text": [
      "59/59 [==============================] - 11s 192ms/step - loss: 0.1768 - accuracy: 0.9936 - val_loss: 1.7411 - val_accuracy: 0.9809\n",
      "Epoch 28/30\n",
      "59/59 [==============================] - ETA: 0s - loss: 0.3243 - accuracy: 0.9936"
     ]
    },
    {
     "name": "stderr",
     "output_type": "stream",
     "text": [
      "Corrupt JPEG data: 214 extraneous bytes before marker 0xd9\n"
     ]
    },
    {
     "name": "stdout",
     "output_type": "stream",
     "text": [
      "59/59 [==============================] - 11s 193ms/step - loss: 0.3243 - accuracy: 0.9936 - val_loss: 2.2191 - val_accuracy: 0.9787\n",
      "Epoch 29/30\n",
      "59/59 [==============================] - ETA: 0s - loss: 0.1819 - accuracy: 0.9973"
     ]
    },
    {
     "name": "stderr",
     "output_type": "stream",
     "text": [
      "Corrupt JPEG data: 214 extraneous bytes before marker 0xd9\n"
     ]
    },
    {
     "name": "stdout",
     "output_type": "stream",
     "text": [
      "59/59 [==============================] - 11s 192ms/step - loss: 0.1819 - accuracy: 0.9973 - val_loss: 1.9967 - val_accuracy: 0.9809\n",
      "Epoch 30/30\n",
      "59/59 [==============================] - ETA: 0s - loss: 0.1464 - accuracy: 0.9952"
     ]
    },
    {
     "name": "stderr",
     "output_type": "stream",
     "text": [
      "Corrupt JPEG data: 214 extraneous bytes before marker 0xd9\n"
     ]
    },
    {
     "name": "stdout",
     "output_type": "stream",
     "text": [
      "59/59 [==============================] - 11s 192ms/step - loss: 0.1464 - accuracy: 0.9952 - val_loss: 1.8963 - val_accuracy: 0.9777\n",
      "19/59 [========>.....................] - ETA: 4s - loss: 1.9746 - accuracy: 0.9688"
     ]
    },
    {
     "name": "stderr",
     "output_type": "stream",
     "text": [
      "Corrupt JPEG data: 128 extraneous bytes before marker 0xd9\n"
     ]
    },
    {
     "name": "stdout",
     "output_type": "stream",
     "text": [
      "59/59 [==============================] - 6s 100ms/step - loss: 2.0767 - accuracy: 0.9731\n",
      "test accuracy: 0.973\n"
     ]
    },
    {
     "data": {
      "image/png": "[encoded data removed]",
      "text/plain": [
       "<Figure size 432x288 with 1 Axes>"
      ]
     },
     "metadata": {
      "needs_background": "light"
     },
     "output_type": "display_data"
    },
    {
     "data": {
      "image/png": "[encoded data removed]",
      "text/plain": [
       "<Figure size 432x288 with 1 Axes>"
      ]
     },
     "metadata": {
      "needs_background": "light"
     },
     "output_type": "display_data"
    },
    {
     "data": {
      "text/plain": [
       "<Figure size 432x288 with 0 Axes>"
      ]
     },
     "metadata": {},
     "output_type": "display_data"
    }
   ],
   "source": [
    "model.compile(loss=\"binary_crossentropy\",\n",
    "              optimizer=keras.optimizers.RMSprop(learning_rate=1e-5),\n",
    "              metrics=[\"accuracy\"])\n",
    "\n",
    "callbacks = [\n",
    "    keras.callbacks.ModelCheckpoint(\n",
    "        filepath=\"checkpoints/ch08-convnets-from-scratch/fine_tuining.keras\",\n",
    "        save_best_only = True,\n",
    "        monitor=\"val_loss\"\n",
    "    )\n",
    "]\n",
    "\n",
    "history = model.fit(\n",
    "    train_dataset,\n",
    "    epochs=30,\n",
    "    validation_data=val_dataset,\n",
    "    callbacks=callbacks\n",
    ")\n",
    "\n",
    "accuracy = history.history[\"accuracy\"]\n",
    "val_accuracy = history.history[\"val_accuracy\"]\n",
    "loss = history.history[\"loss\"]\n",
    "val_loss = history.history[\"val_loss\"]\n",
    "epochs = range(1, len(accuracy)+1)\n",
    "\n",
    "plt.plot(epochs, accuracy, \"bo\", label=\"Training Accuray\")\n",
    "plt.plot(epochs, val_accuracy, \"b\", label=\"Validation Accuray\")\n",
    "plt.title(\"Training & Validation Accuracy\")\n",
    "plt.legend()\n",
    "plt.figure()\n",
    "\n",
    "plt.plot(epochs, loss, \"bo\", label=\"Training Loss\")\n",
    "plt.plot(epochs, val_loss, \"b\", label=\"Validation Loss\")\n",
    "plt.title(\"Training & Validation Loss\")\n",
    "plt.legend()\n",
    "plt.figure()\n",
    "\n",
    "test_model = keras.models.load_model(\"checkpoints/ch08-convnets-from-scratch/fine_tuining.keras\")\n",
    "test_loss, test_acc = test_model.evaluate(test_dataset)\n",
    "print(f\"test accuracy: {test_acc:.3f}\")"
   ]
  },
  {
   "cell_type": "code",
   "execution_count": null,
   "metadata": {},
   "outputs": [],
   "source": []
  }
 ],
 "metadata": {
  "kernelspec": {
   "display_name": "Python 3.9.12 ('tflab')",
   "language": "python",
   "name": "python3"
  },
  "language_info": {
   "codemirror_mode": {
    "name": "ipython",
    "version": 3
   },
   "file_extension": ".py",
   "mimetype": "text/x-python",
   "name": "python",
   "nbconvert_exporter": "python",
   "pygments_lexer": "ipython3",
   "version": "3.9.12"
  },
  "orig_nbformat": 4,
  "vscode": {
   "interpreter": {
    "hash": "03093e31b4ca43731012cb7d90aef1852be82b91fabe0f61f11e024946a263ab"
   }
  }
 },
 "nbformat": 4,
 "nbformat_minor": 2
}
